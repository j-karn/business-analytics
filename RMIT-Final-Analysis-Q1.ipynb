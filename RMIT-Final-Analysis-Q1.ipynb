{
 "cells": [
  {
   "cell_type": "markdown",
   "id": "employed-prediction",
   "metadata": {},
   "source": [
    "### Working question - how is SuperFoodsMax tracking on revenue currently?"
   ]
  },
  {
   "cell_type": "code",
   "execution_count": 27,
   "id": "developed-residence",
   "metadata": {},
   "outputs": [],
   "source": [
    "import pandas as pd\n",
    "import numpy as np\n",
    "import plotly.graph_objects as go"
   ]
  },
  {
   "cell_type": "code",
   "execution_count": 55,
   "id": "mysterious-madness",
   "metadata": {},
   "outputs": [],
   "source": [
    "%matplotlib inline"
   ]
  },
  {
   "cell_type": "code",
   "execution_count": 28,
   "id": "demographic-samba",
   "metadata": {
    "scrolled": true
   },
   "outputs": [],
   "source": [
    "df = pd.read_csv(\"dataset_2017_2020_cleanJP.csv\")"
   ]
  },
  {
   "cell_type": "code",
   "execution_count": 29,
   "id": "norwegian-marketing",
   "metadata": {
    "scrolled": true
   },
   "outputs": [
    {
     "data": {
      "text/plain": [
       "Index(['Unnamed: 0', 'customer_id', 'product_id', 'basket_id', 'loyalty',\n",
       "       'household_type', 'age_band', 'department', 'brand', 'commodity',\n",
       "       'store', 'transaction_date', 'price', 'days_since_first', 't_date',\n",
       "       'month', 'quarter', 'demo_child'],\n",
       "      dtype='object')"
      ]
     },
     "execution_count": 29,
     "metadata": {},
     "output_type": "execute_result"
    }
   ],
   "source": [
    "#check column headings\n",
    "df.columns"
   ]
  },
  {
   "cell_type": "code",
   "execution_count": 30,
   "id": "otherwise-lobby",
   "metadata": {
    "scrolled": true
   },
   "outputs": [
    {
     "data": {
      "text/plain": [
       "Unnamed: 0            int64\n",
       "customer_id           int64\n",
       "product_id            int64\n",
       "basket_id             int64\n",
       "loyalty              object\n",
       "household_type       object\n",
       "age_band             object\n",
       "department           object\n",
       "brand                object\n",
       "commodity            object\n",
       "store                 int64\n",
       "transaction_date     object\n",
       "price               float64\n",
       "days_since_first      int64\n",
       "t_date               object\n",
       "month                 int64\n",
       "quarter              object\n",
       "demo_child           object\n",
       "dtype: object"
      ]
     },
     "execution_count": 30,
     "metadata": {},
     "output_type": "execute_result"
    }
   ],
   "source": [
    "#check data type\n",
    "df.dtypes"
   ]
  },
  {
   "cell_type": "code",
   "execution_count": 31,
   "id": "improving-trainer",
   "metadata": {
    "scrolled": true
   },
   "outputs": [
    {
     "data": {
      "text/html": [
       "<div>\n",
       "<style scoped>\n",
       "    .dataframe tbody tr th:only-of-type {\n",
       "        vertical-align: middle;\n",
       "    }\n",
       "\n",
       "    .dataframe tbody tr th {\n",
       "        vertical-align: top;\n",
       "    }\n",
       "\n",
       "    .dataframe thead th {\n",
       "        text-align: right;\n",
       "    }\n",
       "</style>\n",
       "<table border=\"1\" class=\"dataframe\">\n",
       "  <thead>\n",
       "    <tr style=\"text-align: right;\">\n",
       "      <th></th>\n",
       "      <th>total_revenue</th>\n",
       "    </tr>\n",
       "    <tr>\n",
       "      <th>year</th>\n",
       "      <th></th>\n",
       "    </tr>\n",
       "  </thead>\n",
       "  <tbody>\n",
       "    <tr>\n",
       "      <th>2017</th>\n",
       "      <td>72683.82</td>\n",
       "    </tr>\n",
       "    <tr>\n",
       "      <th>2018</th>\n",
       "      <td>74167.31</td>\n",
       "    </tr>\n",
       "    <tr>\n",
       "      <th>2019</th>\n",
       "      <td>74330.87</td>\n",
       "    </tr>\n",
       "    <tr>\n",
       "      <th>2020</th>\n",
       "      <td>29899.99</td>\n",
       "    </tr>\n",
       "  </tbody>\n",
       "</table>\n",
       "</div>"
      ],
      "text/plain": [
       "      total_revenue\n",
       "year               \n",
       "2017       72683.82\n",
       "2018       74167.31\n",
       "2019       74330.87\n",
       "2020       29899.99"
      ]
     },
     "execution_count": 31,
     "metadata": {},
     "output_type": "execute_result"
    }
   ],
   "source": [
    "#check total revenue per year\n",
    "df.transaction_date = pd.to_datetime(df.transaction_date) #Have to change to datetime format\n",
    "df[\"year\"] = df.transaction_date.dt.year\n",
    "df.groupby(['year']).agg(total_revenue=('price', sum)).head()"
   ]
  },
  {
   "cell_type": "code",
   "execution_count": 32,
   "id": "intellectual-setting",
   "metadata": {
    "scrolled": true
   },
   "outputs": [
    {
     "name": "stdout",
     "output_type": "stream",
     "text": [
      "   year  customer_id\n",
      "0  2017          987\n",
      "1  2018         1005\n",
      "2  2019         1016\n",
      "3  2020          401\n"
     ]
    }
   ],
   "source": [
    "#count unique number of customer per year\n",
    "h = df.groupby(['year'],as_index=False).agg({'customer_id':pd.Series.nunique})\n",
    "print(h)"
   ]
  },
  {
   "cell_type": "code",
   "execution_count": 33,
   "id": "seven-wonder",
   "metadata": {
    "scrolled": true
   },
   "outputs": [
    {
     "data": {
      "text/html": [
       "<div>\n",
       "<style scoped>\n",
       "    .dataframe tbody tr th:only-of-type {\n",
       "        vertical-align: middle;\n",
       "    }\n",
       "\n",
       "    .dataframe tbody tr th {\n",
       "        vertical-align: top;\n",
       "    }\n",
       "\n",
       "    .dataframe thead th {\n",
       "        text-align: right;\n",
       "    }\n",
       "</style>\n",
       "<table border=\"1\" class=\"dataframe\">\n",
       "  <thead>\n",
       "    <tr style=\"text-align: right;\">\n",
       "      <th></th>\n",
       "      <th>Unnamed: 0</th>\n",
       "      <th>customer_id</th>\n",
       "      <th>product_id</th>\n",
       "      <th>basket_id</th>\n",
       "      <th>loyalty</th>\n",
       "      <th>household_type</th>\n",
       "      <th>age_band</th>\n",
       "      <th>department</th>\n",
       "      <th>brand</th>\n",
       "      <th>commodity</th>\n",
       "      <th>store</th>\n",
       "      <th>transaction_date</th>\n",
       "      <th>price</th>\n",
       "      <th>days_since_first</th>\n",
       "      <th>t_date</th>\n",
       "      <th>month</th>\n",
       "      <th>quarter</th>\n",
       "      <th>demo_child</th>\n",
       "      <th>year</th>\n",
       "    </tr>\n",
       "  </thead>\n",
       "  <tbody>\n",
       "    <tr>\n",
       "      <th>0</th>\n",
       "      <td>0</td>\n",
       "      <td>15803</td>\n",
       "      <td>1131974</td>\n",
       "      <td>57266</td>\n",
       "      <td>Loyalist</td>\n",
       "      <td>1 adult with kids</td>\n",
       "      <td>19-24</td>\n",
       "      <td>Grocery</td>\n",
       "      <td>private</td>\n",
       "      <td>Baked bread/buns/rolls</td>\n",
       "      <td>374</td>\n",
       "      <td>2018-10-18</td>\n",
       "      <td>0.99</td>\n",
       "      <td>0</td>\n",
       "      <td>2018-10-01</td>\n",
       "      <td>10</td>\n",
       "      <td>Q4</td>\n",
       "      <td>kids</td>\n",
       "      <td>2018</td>\n",
       "    </tr>\n",
       "    <tr>\n",
       "      <th>1</th>\n",
       "      <td>1</td>\n",
       "      <td>15803</td>\n",
       "      <td>1051516</td>\n",
       "      <td>57266</td>\n",
       "      <td>Loyalist</td>\n",
       "      <td>1 adult with kids</td>\n",
       "      <td>19-24</td>\n",
       "      <td>Produce</td>\n",
       "      <td>national</td>\n",
       "      <td>Vegetables - all others</td>\n",
       "      <td>374</td>\n",
       "      <td>2018-10-18</td>\n",
       "      <td>0.70</td>\n",
       "      <td>0</td>\n",
       "      <td>2018-10-01</td>\n",
       "      <td>10</td>\n",
       "      <td>Q4</td>\n",
       "      <td>kids</td>\n",
       "      <td>2018</td>\n",
       "    </tr>\n",
       "    <tr>\n",
       "      <th>2</th>\n",
       "      <td>2</td>\n",
       "      <td>15803</td>\n",
       "      <td>967254</td>\n",
       "      <td>57266</td>\n",
       "      <td>Loyalist</td>\n",
       "      <td>1 adult with kids</td>\n",
       "      <td>19-24</td>\n",
       "      <td>Pharmaceutical</td>\n",
       "      <td>national</td>\n",
       "      <td>Cold and flu</td>\n",
       "      <td>374</td>\n",
       "      <td>2018-10-18</td>\n",
       "      <td>1.68</td>\n",
       "      <td>0</td>\n",
       "      <td>2018-10-01</td>\n",
       "      <td>10</td>\n",
       "      <td>Q4</td>\n",
       "      <td>kids</td>\n",
       "      <td>2018</td>\n",
       "    </tr>\n",
       "    <tr>\n",
       "      <th>3</th>\n",
       "      <td>3</td>\n",
       "      <td>15803</td>\n",
       "      <td>1134222</td>\n",
       "      <td>57266</td>\n",
       "      <td>Loyalist</td>\n",
       "      <td>1 adult with kids</td>\n",
       "      <td>19-24</td>\n",
       "      <td>Grocery</td>\n",
       "      <td>private</td>\n",
       "      <td>Paper housewares</td>\n",
       "      <td>374</td>\n",
       "      <td>2018-10-18</td>\n",
       "      <td>2.59</td>\n",
       "      <td>0</td>\n",
       "      <td>2018-10-01</td>\n",
       "      <td>10</td>\n",
       "      <td>Q4</td>\n",
       "      <td>kids</td>\n",
       "      <td>2018</td>\n",
       "    </tr>\n",
       "    <tr>\n",
       "      <th>4</th>\n",
       "      <td>4</td>\n",
       "      <td>15803</td>\n",
       "      <td>1003421</td>\n",
       "      <td>57266</td>\n",
       "      <td>Loyalist</td>\n",
       "      <td>1 adult with kids</td>\n",
       "      <td>19-24</td>\n",
       "      <td>Grocery</td>\n",
       "      <td>national</td>\n",
       "      <td>Soup</td>\n",
       "      <td>374</td>\n",
       "      <td>2018-10-18</td>\n",
       "      <td>0.60</td>\n",
       "      <td>0</td>\n",
       "      <td>2018-10-01</td>\n",
       "      <td>10</td>\n",
       "      <td>Q4</td>\n",
       "      <td>kids</td>\n",
       "      <td>2018</td>\n",
       "    </tr>\n",
       "  </tbody>\n",
       "</table>\n",
       "</div>"
      ],
      "text/plain": [
       "   Unnamed: 0  customer_id  product_id  basket_id   loyalty  \\\n",
       "0           0        15803     1131974      57266  Loyalist   \n",
       "1           1        15803     1051516      57266  Loyalist   \n",
       "2           2        15803      967254      57266  Loyalist   \n",
       "3           3        15803     1134222      57266  Loyalist   \n",
       "4           4        15803     1003421      57266  Loyalist   \n",
       "\n",
       "      household_type age_band      department     brand  \\\n",
       "0  1 adult with kids    19-24         Grocery   private   \n",
       "1  1 adult with kids    19-24         Produce  national   \n",
       "2  1 adult with kids    19-24  Pharmaceutical  national   \n",
       "3  1 adult with kids    19-24         Grocery   private   \n",
       "4  1 adult with kids    19-24         Grocery  national   \n",
       "\n",
       "                 commodity  store transaction_date  price  days_since_first  \\\n",
       "0   Baked bread/buns/rolls    374       2018-10-18   0.99                 0   \n",
       "1  Vegetables - all others    374       2018-10-18   0.70                 0   \n",
       "2             Cold and flu    374       2018-10-18   1.68                 0   \n",
       "3         Paper housewares    374       2018-10-18   2.59                 0   \n",
       "4                     Soup    374       2018-10-18   0.60                 0   \n",
       "\n",
       "       t_date  month quarter demo_child  year  \n",
       "0  2018-10-01     10      Q4       kids  2018  \n",
       "1  2018-10-01     10      Q4       kids  2018  \n",
       "2  2018-10-01     10      Q4       kids  2018  \n",
       "3  2018-10-01     10      Q4       kids  2018  \n",
       "4  2018-10-01     10      Q4       kids  2018  "
      ]
     },
     "execution_count": 33,
     "metadata": {},
     "output_type": "execute_result"
    }
   ],
   "source": [
    "df.head()"
   ]
  },
  {
   "cell_type": "code",
   "execution_count": 34,
   "id": "painful-israel",
   "metadata": {
    "scrolled": true
   },
   "outputs": [],
   "source": [
    "#creating a new dataframe for rev table\n",
    "rev_table = df.groupby(['t_date','year','quarter']).agg(total_revenue=('price', sum)).reset_index()"
   ]
  },
  {
   "cell_type": "code",
   "execution_count": 35,
   "id": "african-denmark",
   "metadata": {
    "scrolled": true
   },
   "outputs": [
    {
     "data": {
      "text/html": [
       "<div>\n",
       "<style scoped>\n",
       "    .dataframe tbody tr th:only-of-type {\n",
       "        vertical-align: middle;\n",
       "    }\n",
       "\n",
       "    .dataframe tbody tr th {\n",
       "        vertical-align: top;\n",
       "    }\n",
       "\n",
       "    .dataframe thead th {\n",
       "        text-align: right;\n",
       "    }\n",
       "</style>\n",
       "<table border=\"1\" class=\"dataframe\">\n",
       "  <thead>\n",
       "    <tr style=\"text-align: right;\">\n",
       "      <th></th>\n",
       "      <th>t_date</th>\n",
       "      <th>year</th>\n",
       "      <th>quarter</th>\n",
       "      <th>total_revenue</th>\n",
       "    </tr>\n",
       "  </thead>\n",
       "  <tbody>\n",
       "    <tr>\n",
       "      <th>0</th>\n",
       "      <td>2017-01-01</td>\n",
       "      <td>2017</td>\n",
       "      <td>Q1</td>\n",
       "      <td>5287.93</td>\n",
       "    </tr>\n",
       "    <tr>\n",
       "      <th>1</th>\n",
       "      <td>2017-02-01</td>\n",
       "      <td>2017</td>\n",
       "      <td>Q1</td>\n",
       "      <td>5690.26</td>\n",
       "    </tr>\n",
       "    <tr>\n",
       "      <th>2</th>\n",
       "      <td>2017-03-01</td>\n",
       "      <td>2017</td>\n",
       "      <td>Q1</td>\n",
       "      <td>6295.21</td>\n",
       "    </tr>\n",
       "    <tr>\n",
       "      <th>3</th>\n",
       "      <td>2017-04-01</td>\n",
       "      <td>2017</td>\n",
       "      <td>Q2</td>\n",
       "      <td>5804.32</td>\n",
       "    </tr>\n",
       "    <tr>\n",
       "      <th>4</th>\n",
       "      <td>2017-05-01</td>\n",
       "      <td>2017</td>\n",
       "      <td>Q2</td>\n",
       "      <td>5461.15</td>\n",
       "    </tr>\n",
       "    <tr>\n",
       "      <th>5</th>\n",
       "      <td>2017-06-01</td>\n",
       "      <td>2017</td>\n",
       "      <td>Q2</td>\n",
       "      <td>7206.28</td>\n",
       "    </tr>\n",
       "    <tr>\n",
       "      <th>6</th>\n",
       "      <td>2017-07-01</td>\n",
       "      <td>2017</td>\n",
       "      <td>Q3</td>\n",
       "      <td>7107.16</td>\n",
       "    </tr>\n",
       "    <tr>\n",
       "      <th>7</th>\n",
       "      <td>2017-08-01</td>\n",
       "      <td>2017</td>\n",
       "      <td>Q3</td>\n",
       "      <td>6790.37</td>\n",
       "    </tr>\n",
       "    <tr>\n",
       "      <th>8</th>\n",
       "      <td>2017-09-01</td>\n",
       "      <td>2017</td>\n",
       "      <td>Q3</td>\n",
       "      <td>5264.79</td>\n",
       "    </tr>\n",
       "    <tr>\n",
       "      <th>9</th>\n",
       "      <td>2017-10-01</td>\n",
       "      <td>2017</td>\n",
       "      <td>Q4</td>\n",
       "      <td>5369.17</td>\n",
       "    </tr>\n",
       "    <tr>\n",
       "      <th>10</th>\n",
       "      <td>2017-11-01</td>\n",
       "      <td>2017</td>\n",
       "      <td>Q4</td>\n",
       "      <td>5727.65</td>\n",
       "    </tr>\n",
       "    <tr>\n",
       "      <th>11</th>\n",
       "      <td>2017-12-01</td>\n",
       "      <td>2017</td>\n",
       "      <td>Q4</td>\n",
       "      <td>6679.53</td>\n",
       "    </tr>\n",
       "    <tr>\n",
       "      <th>12</th>\n",
       "      <td>2018-01-01</td>\n",
       "      <td>2018</td>\n",
       "      <td>Q1</td>\n",
       "      <td>5366.78</td>\n",
       "    </tr>\n",
       "    <tr>\n",
       "      <th>13</th>\n",
       "      <td>2018-02-01</td>\n",
       "      <td>2018</td>\n",
       "      <td>Q1</td>\n",
       "      <td>5816.81</td>\n",
       "    </tr>\n",
       "    <tr>\n",
       "      <th>14</th>\n",
       "      <td>2018-03-01</td>\n",
       "      <td>2018</td>\n",
       "      <td>Q1</td>\n",
       "      <td>5929.93</td>\n",
       "    </tr>\n",
       "    <tr>\n",
       "      <th>15</th>\n",
       "      <td>2018-04-01</td>\n",
       "      <td>2018</td>\n",
       "      <td>Q2</td>\n",
       "      <td>6487.92</td>\n",
       "    </tr>\n",
       "    <tr>\n",
       "      <th>16</th>\n",
       "      <td>2018-05-01</td>\n",
       "      <td>2018</td>\n",
       "      <td>Q2</td>\n",
       "      <td>5679.71</td>\n",
       "    </tr>\n",
       "    <tr>\n",
       "      <th>17</th>\n",
       "      <td>2018-06-01</td>\n",
       "      <td>2018</td>\n",
       "      <td>Q2</td>\n",
       "      <td>6962.57</td>\n",
       "    </tr>\n",
       "    <tr>\n",
       "      <th>18</th>\n",
       "      <td>2018-07-01</td>\n",
       "      <td>2018</td>\n",
       "      <td>Q3</td>\n",
       "      <td>7442.96</td>\n",
       "    </tr>\n",
       "    <tr>\n",
       "      <th>19</th>\n",
       "      <td>2018-08-01</td>\n",
       "      <td>2018</td>\n",
       "      <td>Q3</td>\n",
       "      <td>6422.34</td>\n",
       "    </tr>\n",
       "    <tr>\n",
       "      <th>20</th>\n",
       "      <td>2018-09-01</td>\n",
       "      <td>2018</td>\n",
       "      <td>Q3</td>\n",
       "      <td>5362.16</td>\n",
       "    </tr>\n",
       "    <tr>\n",
       "      <th>21</th>\n",
       "      <td>2018-10-01</td>\n",
       "      <td>2018</td>\n",
       "      <td>Q4</td>\n",
       "      <td>5354.23</td>\n",
       "    </tr>\n",
       "    <tr>\n",
       "      <th>22</th>\n",
       "      <td>2018-11-01</td>\n",
       "      <td>2018</td>\n",
       "      <td>Q4</td>\n",
       "      <td>6095.60</td>\n",
       "    </tr>\n",
       "    <tr>\n",
       "      <th>23</th>\n",
       "      <td>2018-12-01</td>\n",
       "      <td>2018</td>\n",
       "      <td>Q4</td>\n",
       "      <td>7246.30</td>\n",
       "    </tr>\n",
       "    <tr>\n",
       "      <th>24</th>\n",
       "      <td>2019-01-01</td>\n",
       "      <td>2019</td>\n",
       "      <td>Q1</td>\n",
       "      <td>5462.93</td>\n",
       "    </tr>\n",
       "    <tr>\n",
       "      <th>25</th>\n",
       "      <td>2019-02-01</td>\n",
       "      <td>2019</td>\n",
       "      <td>Q1</td>\n",
       "      <td>5284.52</td>\n",
       "    </tr>\n",
       "    <tr>\n",
       "      <th>26</th>\n",
       "      <td>2019-03-01</td>\n",
       "      <td>2019</td>\n",
       "      <td>Q1</td>\n",
       "      <td>6109.74</td>\n",
       "    </tr>\n",
       "    <tr>\n",
       "      <th>27</th>\n",
       "      <td>2019-04-01</td>\n",
       "      <td>2019</td>\n",
       "      <td>Q2</td>\n",
       "      <td>6394.11</td>\n",
       "    </tr>\n",
       "    <tr>\n",
       "      <th>28</th>\n",
       "      <td>2019-05-01</td>\n",
       "      <td>2019</td>\n",
       "      <td>Q2</td>\n",
       "      <td>6464.49</td>\n",
       "    </tr>\n",
       "    <tr>\n",
       "      <th>29</th>\n",
       "      <td>2019-06-01</td>\n",
       "      <td>2019</td>\n",
       "      <td>Q2</td>\n",
       "      <td>7665.36</td>\n",
       "    </tr>\n",
       "    <tr>\n",
       "      <th>30</th>\n",
       "      <td>2019-07-01</td>\n",
       "      <td>2019</td>\n",
       "      <td>Q3</td>\n",
       "      <td>6506.25</td>\n",
       "    </tr>\n",
       "    <tr>\n",
       "      <th>31</th>\n",
       "      <td>2019-08-01</td>\n",
       "      <td>2019</td>\n",
       "      <td>Q3</td>\n",
       "      <td>6909.86</td>\n",
       "    </tr>\n",
       "    <tr>\n",
       "      <th>32</th>\n",
       "      <td>2019-09-01</td>\n",
       "      <td>2019</td>\n",
       "      <td>Q3</td>\n",
       "      <td>5299.70</td>\n",
       "    </tr>\n",
       "    <tr>\n",
       "      <th>33</th>\n",
       "      <td>2019-10-01</td>\n",
       "      <td>2019</td>\n",
       "      <td>Q4</td>\n",
       "      <td>5288.93</td>\n",
       "    </tr>\n",
       "    <tr>\n",
       "      <th>34</th>\n",
       "      <td>2019-11-01</td>\n",
       "      <td>2019</td>\n",
       "      <td>Q4</td>\n",
       "      <td>5573.33</td>\n",
       "    </tr>\n",
       "    <tr>\n",
       "      <th>35</th>\n",
       "      <td>2019-12-01</td>\n",
       "      <td>2019</td>\n",
       "      <td>Q4</td>\n",
       "      <td>7371.65</td>\n",
       "    </tr>\n",
       "    <tr>\n",
       "      <th>36</th>\n",
       "      <td>2020-01-01</td>\n",
       "      <td>2020</td>\n",
       "      <td>Q1</td>\n",
       "      <td>5242.21</td>\n",
       "    </tr>\n",
       "    <tr>\n",
       "      <th>37</th>\n",
       "      <td>2020-02-01</td>\n",
       "      <td>2020</td>\n",
       "      <td>Q1</td>\n",
       "      <td>6205.57</td>\n",
       "    </tr>\n",
       "    <tr>\n",
       "      <th>38</th>\n",
       "      <td>2020-03-01</td>\n",
       "      <td>2020</td>\n",
       "      <td>Q1</td>\n",
       "      <td>5835.69</td>\n",
       "    </tr>\n",
       "    <tr>\n",
       "      <th>39</th>\n",
       "      <td>2020-04-01</td>\n",
       "      <td>2020</td>\n",
       "      <td>Q2</td>\n",
       "      <td>6380.56</td>\n",
       "    </tr>\n",
       "    <tr>\n",
       "      <th>40</th>\n",
       "      <td>2020-05-01</td>\n",
       "      <td>2020</td>\n",
       "      <td>Q2</td>\n",
       "      <td>6235.96</td>\n",
       "    </tr>\n",
       "  </tbody>\n",
       "</table>\n",
       "</div>"
      ],
      "text/plain": [
       "        t_date  year quarter  total_revenue\n",
       "0   2017-01-01  2017      Q1        5287.93\n",
       "1   2017-02-01  2017      Q1        5690.26\n",
       "2   2017-03-01  2017      Q1        6295.21\n",
       "3   2017-04-01  2017      Q2        5804.32\n",
       "4   2017-05-01  2017      Q2        5461.15\n",
       "5   2017-06-01  2017      Q2        7206.28\n",
       "6   2017-07-01  2017      Q3        7107.16\n",
       "7   2017-08-01  2017      Q3        6790.37\n",
       "8   2017-09-01  2017      Q3        5264.79\n",
       "9   2017-10-01  2017      Q4        5369.17\n",
       "10  2017-11-01  2017      Q4        5727.65\n",
       "11  2017-12-01  2017      Q4        6679.53\n",
       "12  2018-01-01  2018      Q1        5366.78\n",
       "13  2018-02-01  2018      Q1        5816.81\n",
       "14  2018-03-01  2018      Q1        5929.93\n",
       "15  2018-04-01  2018      Q2        6487.92\n",
       "16  2018-05-01  2018      Q2        5679.71\n",
       "17  2018-06-01  2018      Q2        6962.57\n",
       "18  2018-07-01  2018      Q3        7442.96\n",
       "19  2018-08-01  2018      Q3        6422.34\n",
       "20  2018-09-01  2018      Q3        5362.16\n",
       "21  2018-10-01  2018      Q4        5354.23\n",
       "22  2018-11-01  2018      Q4        6095.60\n",
       "23  2018-12-01  2018      Q4        7246.30\n",
       "24  2019-01-01  2019      Q1        5462.93\n",
       "25  2019-02-01  2019      Q1        5284.52\n",
       "26  2019-03-01  2019      Q1        6109.74\n",
       "27  2019-04-01  2019      Q2        6394.11\n",
       "28  2019-05-01  2019      Q2        6464.49\n",
       "29  2019-06-01  2019      Q2        7665.36\n",
       "30  2019-07-01  2019      Q3        6506.25\n",
       "31  2019-08-01  2019      Q3        6909.86\n",
       "32  2019-09-01  2019      Q3        5299.70\n",
       "33  2019-10-01  2019      Q4        5288.93\n",
       "34  2019-11-01  2019      Q4        5573.33\n",
       "35  2019-12-01  2019      Q4        7371.65\n",
       "36  2020-01-01  2020      Q1        5242.21\n",
       "37  2020-02-01  2020      Q1        6205.57\n",
       "38  2020-03-01  2020      Q1        5835.69\n",
       "39  2020-04-01  2020      Q2        6380.56\n",
       "40  2020-05-01  2020      Q2        6235.96"
      ]
     },
     "execution_count": 35,
     "metadata": {},
     "output_type": "execute_result"
    }
   ],
   "source": [
    "rev_table.head(41)"
   ]
  },
  {
   "cell_type": "code",
   "execution_count": 36,
   "id": "crazy-uganda",
   "metadata": {
    "scrolled": true
   },
   "outputs": [
    {
     "data": {
      "text/plain": [
       "t_date            object\n",
       "year               int64\n",
       "quarter           object\n",
       "total_revenue    float64\n",
       "dtype: object"
      ]
     },
     "execution_count": 36,
     "metadata": {},
     "output_type": "execute_result"
    }
   ],
   "source": [
    "#find out data type\n",
    "rev_table.dtypes"
   ]
  },
  {
   "cell_type": "code",
   "execution_count": 37,
   "id": "assumed-porter",
   "metadata": {
    "scrolled": false
   },
   "outputs": [
    {
     "name": "stdout",
     "output_type": "stream",
     "text": [
      "        t_date  year quarter  total_revenue\n",
      "0   2017-01-01  2017      Q1        5287.93\n",
      "1   2017-02-01  2017      Q1        5690.26\n",
      "2   2017-03-01  2017      Q1        6295.21\n",
      "3   2017-04-01  2017      Q2        5804.32\n",
      "4   2017-05-01  2017      Q2        5461.15\n",
      "..         ...   ...     ...            ...\n",
      "60  2022-01-01  2022      Q1        6130.73\n",
      "61  2022-02-01  2022      Q1        6130.95\n",
      "62  2022-03-01  2022      Q1        6131.08\n",
      "63  2022-04-01  2022      Q2        6131.05\n",
      "64  2022-05-01  2022      Q2        6130.97\n",
      "\n",
      "[65 rows x 4 columns]\n"
     ]
    }
   ],
   "source": [
    "# adding in new rows of forecasted revenue\n",
    "listOfForecastedRevenue = [pd.Series(['2020-06-01', '2020', 'Q2', 6187.49], index=rev_table.columns ) ,\n",
    "                pd.Series(['2020-07-01', '2020', 'Q3', 6046.14], index=rev_table.columns ) ,\n",
    "                pd.Series(['2020-08-01', '2020', 'Q3', 6083.44], index=rev_table.columns ) ,\n",
    "                pd.Series(['2020-09-01', '2020', 'Q3', 6123.55], index=rev_table.columns ) ,\n",
    "                pd.Series(['2020-10-01', '2020', 'Q4', 6162.76], index=rev_table.columns ) ,\n",
    "                pd.Series(['2020-11-01', '2020', 'Q4', 6148.99], index=rev_table.columns ) ,\n",
    "                pd.Series(['2020-12-01', '2020', 'Q4', 6129.73], index=rev_table.columns ) ,\n",
    "                pd.Series(['2021-01-01', '2021', 'Q1', 6118.66], index=rev_table.columns ) ,\n",
    "                pd.Series(['2021-02-01', '2021', 'Q1', 6124.75], index=rev_table.columns ) ,\n",
    "                pd.Series(['2021-03-01', '2021', 'Q1', 6132.73], index=rev_table.columns ) ,\n",
    "                pd.Series(['2021-04-01', '2021', 'Q2', 6135.73], index=rev_table.columns ) ,\n",
    "                pd.Series(['2021-05-01', '2021', 'Q2', 6132.95], index=rev_table.columns ) ,\n",
    "                pd.Series(['2021-06-01', '2021', 'Q2', 6129.88], index=rev_table.columns ) ,\n",
    "                pd.Series(['2021-07-01', '2021', 'Q3', 6129.16], index=rev_table.columns ) ,\n",
    "                pd.Series(['2021-08-01', '2021', 'Q3', 6130.4], index=rev_table.columns ) ,\n",
    "                pd.Series(['2021-09-01', '2021', 'Q3', 6131.53], index=rev_table.columns ) ,\n",
    "                pd.Series(['2021-10-01', '2021', 'Q4', 6131.64], index=rev_table.columns ) ,\n",
    "                pd.Series(['2021-11-01', '2021', 'Q4', 6131.11], index=rev_table.columns ) ,\n",
    "                pd.Series(['2021-12-01', '2021', 'Q4', 6130.71], index=rev_table.columns ) ,\n",
    "                pd.Series(['2022-01-01', '2022', 'Q1', 6130.73], index=rev_table.columns ) ,\n",
    "                pd.Series(['2022-02-01', '2022', 'Q1', 6130.95], index=rev_table.columns ) ,\n",
    "                pd.Series(['2022-03-01', '2022', 'Q1', 6131.08], index=rev_table.columns ) ,\n",
    "                pd.Series(['2022-04-01', '2022', 'Q2', 6131.05], index=rev_table.columns ) ,             \n",
    "                pd.Series(['2022-05-01', '2022', 'Q2', 6130.97], index=rev_table.columns ) ]\n",
    "\n",
    "# Pass a list of series to the append() to add \n",
    "# multiple rows to dataframe\n",
    "mod_ts = rev_table.append(listOfForecastedRevenue,\n",
    "                        ignore_index=True)\n",
    "\n",
    "#print modify ts dataframe\n",
    "print(mod_ts)"
   ]
  },
  {
   "cell_type": "code",
   "execution_count": 38,
   "id": "stuffed-architecture",
   "metadata": {
    "scrolled": true
   },
   "outputs": [
    {
     "data": {
      "text/plain": [
       "t_date            object\n",
       "year              object\n",
       "quarter           object\n",
       "total_revenue    float64\n",
       "dtype: object"
      ]
     },
     "execution_count": 38,
     "metadata": {},
     "output_type": "execute_result"
    }
   ],
   "source": [
    "#check data type again, noticing year change\n",
    "mod_ts.dtypes"
   ]
  },
  {
   "cell_type": "code",
   "execution_count": 39,
   "id": "visible-police",
   "metadata": {
    "scrolled": true
   },
   "outputs": [],
   "source": [
    "#converting year to integer\n",
    "mod_ts['year'] = mod_ts.year.astype(int)"
   ]
  },
  {
   "cell_type": "code",
   "execution_count": 40,
   "id": "micro-experiment",
   "metadata": {
    "scrolled": true
   },
   "outputs": [
    {
     "data": {
      "text/plain": [
       "t_date            object\n",
       "year               int32\n",
       "quarter           object\n",
       "total_revenue    float64\n",
       "dtype: object"
      ]
     },
     "execution_count": 40,
     "metadata": {},
     "output_type": "execute_result"
    }
   ],
   "source": [
    "#check data type again\n",
    "mod_ts.dtypes"
   ]
  },
  {
   "cell_type": "code",
   "execution_count": 57,
   "id": "martial-seller",
   "metadata": {
    "scrolled": false
   },
   "outputs": [
    {
     "data": {
      "text/plain": [
       "<AxesSubplot:title={'center':'Revenue per quarter'}, xlabel='year,quarter'>"
      ]
     },
     "execution_count": 57,
     "metadata": {},
     "output_type": "execute_result"
    },
    {
     "data": {
      "image/png": "[encoded data removed]",
      "text/plain": [
       "<Figure size 648x720 with 1 Axes>"
      ]
     },
     "metadata": {
      "needs_background": "light"
     },
     "output_type": "display_data"
    }
   ],
   "source": [
    "#graphing\n",
    "%matplotlib inline\n",
    "mod_ts.groupby(['year','quarter']).agg(total_revenue=('total_revenue', sum)).plot(figsize=(9, 10), title= \"Revenue per quarter\")"
   ]
  },
  {
   "cell_type": "code",
   "execution_count": 42,
   "id": "dental-poison",
   "metadata": {
    "scrolled": true
   },
   "outputs": [
    {
     "data": {
      "text/plain": [
       "t_date            object\n",
       "year               int32\n",
       "quarter           object\n",
       "total_revenue    float64\n",
       "period            object\n",
       "dtype: object"
      ]
     },
     "execution_count": 42,
     "metadata": {},
     "output_type": "execute_result"
    }
   ],
   "source": [
    "#adding in column combining year and quarter\n",
    "mod_ts[\"period\"] = mod_ts[\"year\"].astype(str) + \", \" + mod_ts[\"quarter\"]\n",
    "mod_ts.dtypes"
   ]
  },
  {
   "cell_type": "code",
   "execution_count": 43,
   "id": "prompt-promise",
   "metadata": {
    "scrolled": true
   },
   "outputs": [
    {
     "name": "stdout",
     "output_type": "stream",
     "text": [
      "<class 'pandas.core.frame.DataFrame'>\n",
      "RangeIndex: 65 entries, 0 to 64\n",
      "Data columns (total 5 columns):\n",
      " #   Column         Non-Null Count  Dtype  \n",
      "---  ------         --------------  -----  \n",
      " 0   t_date         65 non-null     object \n",
      " 1   year           65 non-null     int32  \n",
      " 2   quarter        65 non-null     object \n",
      " 3   total_revenue  65 non-null     float64\n",
      " 4   period         65 non-null     object \n",
      "dtypes: float64(1), int32(1), object(3)\n",
      "memory usage: 2.4+ KB\n"
     ]
    }
   ],
   "source": [
    "mod_ts.info()"
   ]
  },
  {
   "cell_type": "code",
   "execution_count": 21,
   "id": "finished-treat",
   "metadata": {
    "scrolled": true
   },
   "outputs": [
    {
     "name": "stdout",
     "output_type": "stream",
     "text": [
      "        t_date  year quarter  total_revenue    period\n",
      "0   2017-01-01  2017      Q1        5287.93  2017, Q1\n",
      "1   2017-02-01  2017      Q1        5690.26  2017, Q1\n",
      "2   2017-03-01  2017      Q1        6295.21  2017, Q1\n",
      "3   2017-04-01  2017      Q2        5804.32  2017, Q2\n",
      "4   2017-05-01  2017      Q2        5461.15  2017, Q2\n",
      "..         ...   ...     ...            ...       ...\n",
      "60  2022-01-01  2022      Q1        6130.73  2022, Q1\n",
      "61  2022-02-01  2022      Q1        6130.95  2022, Q1\n",
      "62  2022-03-01  2022      Q1        6131.08  2022, Q1\n",
      "63  2022-04-01  2022      Q2        6131.05  2022, Q2\n",
      "64  2022-05-01  2022      Q2        6130.97  2022, Q2\n",
      "\n",
      "[65 rows x 5 columns]\n"
     ]
    }
   ],
   "source": [
    "print(mod_ts)"
   ]
  },
  {
   "cell_type": "code",
   "execution_count": 50,
   "id": "exempt-milton",
   "metadata": {
    "scrolled": false
   },
   "outputs": [
    {
     "data": {
      "text/html": [
       "<div>\n",
       "<style scoped>\n",
       "    .dataframe tbody tr th:only-of-type {\n",
       "        vertical-align: middle;\n",
       "    }\n",
       "\n",
       "    .dataframe tbody tr th {\n",
       "        vertical-align: top;\n",
       "    }\n",
       "\n",
       "    .dataframe thead th {\n",
       "        text-align: right;\n",
       "    }\n",
       "</style>\n",
       "<table border=\"1\" class=\"dataframe\">\n",
       "  <thead>\n",
       "    <tr style=\"text-align: right;\">\n",
       "      <th></th>\n",
       "      <th>total_revenue</th>\n",
       "    </tr>\n",
       "    <tr>\n",
       "      <th>period</th>\n",
       "      <th></th>\n",
       "    </tr>\n",
       "  </thead>\n",
       "  <tbody>\n",
       "    <tr>\n",
       "      <th>2017, Q1</th>\n",
       "      <td>17273.40</td>\n",
       "    </tr>\n",
       "    <tr>\n",
       "      <th>2017, Q2</th>\n",
       "      <td>18471.75</td>\n",
       "    </tr>\n",
       "    <tr>\n",
       "      <th>2017, Q3</th>\n",
       "      <td>19162.32</td>\n",
       "    </tr>\n",
       "    <tr>\n",
       "      <th>2017, Q4</th>\n",
       "      <td>17776.35</td>\n",
       "    </tr>\n",
       "    <tr>\n",
       "      <th>2018, Q1</th>\n",
       "      <td>17113.52</td>\n",
       "    </tr>\n",
       "    <tr>\n",
       "      <th>2018, Q2</th>\n",
       "      <td>19130.20</td>\n",
       "    </tr>\n",
       "    <tr>\n",
       "      <th>2018, Q3</th>\n",
       "      <td>19227.46</td>\n",
       "    </tr>\n",
       "    <tr>\n",
       "      <th>2018, Q4</th>\n",
       "      <td>18696.13</td>\n",
       "    </tr>\n",
       "    <tr>\n",
       "      <th>2019, Q1</th>\n",
       "      <td>16857.19</td>\n",
       "    </tr>\n",
       "    <tr>\n",
       "      <th>2019, Q2</th>\n",
       "      <td>20523.96</td>\n",
       "    </tr>\n",
       "    <tr>\n",
       "      <th>2019, Q3</th>\n",
       "      <td>18715.81</td>\n",
       "    </tr>\n",
       "    <tr>\n",
       "      <th>2019, Q4</th>\n",
       "      <td>18233.91</td>\n",
       "    </tr>\n",
       "    <tr>\n",
       "      <th>2020, Q1</th>\n",
       "      <td>17283.47</td>\n",
       "    </tr>\n",
       "    <tr>\n",
       "      <th>2020, Q2</th>\n",
       "      <td>18804.01</td>\n",
       "    </tr>\n",
       "    <tr>\n",
       "      <th>2020, Q3</th>\n",
       "      <td>18253.13</td>\n",
       "    </tr>\n",
       "    <tr>\n",
       "      <th>2020, Q4</th>\n",
       "      <td>18441.48</td>\n",
       "    </tr>\n",
       "    <tr>\n",
       "      <th>2021, Q1</th>\n",
       "      <td>18376.14</td>\n",
       "    </tr>\n",
       "    <tr>\n",
       "      <th>2021, Q2</th>\n",
       "      <td>18398.56</td>\n",
       "    </tr>\n",
       "    <tr>\n",
       "      <th>2021, Q3</th>\n",
       "      <td>18391.09</td>\n",
       "    </tr>\n",
       "    <tr>\n",
       "      <th>2021, Q4</th>\n",
       "      <td>18393.46</td>\n",
       "    </tr>\n",
       "    <tr>\n",
       "      <th>2022, Q1</th>\n",
       "      <td>18392.76</td>\n",
       "    </tr>\n",
       "    <tr>\n",
       "      <th>2022, Q2</th>\n",
       "      <td>12262.02</td>\n",
       "    </tr>\n",
       "  </tbody>\n",
       "</table>\n",
       "</div>"
      ],
      "text/plain": [
       "          total_revenue\n",
       "period                 \n",
       "2017, Q1       17273.40\n",
       "2017, Q2       18471.75\n",
       "2017, Q3       19162.32\n",
       "2017, Q4       17776.35\n",
       "2018, Q1       17113.52\n",
       "2018, Q2       19130.20\n",
       "2018, Q3       19227.46\n",
       "2018, Q4       18696.13\n",
       "2019, Q1       16857.19\n",
       "2019, Q2       20523.96\n",
       "2019, Q3       18715.81\n",
       "2019, Q4       18233.91\n",
       "2020, Q1       17283.47\n",
       "2020, Q2       18804.01\n",
       "2020, Q3       18253.13\n",
       "2020, Q4       18441.48\n",
       "2021, Q1       18376.14\n",
       "2021, Q2       18398.56\n",
       "2021, Q3       18391.09\n",
       "2021, Q4       18393.46\n",
       "2022, Q1       18392.76\n",
       "2022, Q2       12262.02"
      ]
     },
     "execution_count": 50,
     "metadata": {},
     "output_type": "execute_result"
    }
   ],
   "source": [
    "mod_ts.groupby(['period']).agg(total_revenue=('total_revenue', sum)).head(50)"
   ]
  },
  {
   "cell_type": "code",
   "execution_count": 23,
   "id": "acting-calgary",
   "metadata": {
    "scrolled": true
   },
   "outputs": [
    {
     "data": {
      "text/html": [
       "<div>\n",
       "<style scoped>\n",
       "    .dataframe tbody tr th:only-of-type {\n",
       "        vertical-align: middle;\n",
       "    }\n",
       "\n",
       "    .dataframe tbody tr th {\n",
       "        vertical-align: top;\n",
       "    }\n",
       "\n",
       "    .dataframe thead th {\n",
       "        text-align: right;\n",
       "    }\n",
       "</style>\n",
       "<table border=\"1\" class=\"dataframe\">\n",
       "  <thead>\n",
       "    <tr style=\"text-align: right;\">\n",
       "      <th></th>\n",
       "      <th>total_revenue</th>\n",
       "    </tr>\n",
       "    <tr>\n",
       "      <th>year</th>\n",
       "      <th></th>\n",
       "    </tr>\n",
       "  </thead>\n",
       "  <tbody>\n",
       "    <tr>\n",
       "      <th>2017</th>\n",
       "      <td>72683.82</td>\n",
       "    </tr>\n",
       "    <tr>\n",
       "      <th>2018</th>\n",
       "      <td>74167.31</td>\n",
       "    </tr>\n",
       "    <tr>\n",
       "      <th>2019</th>\n",
       "      <td>74330.87</td>\n",
       "    </tr>\n",
       "    <tr>\n",
       "      <th>2020</th>\n",
       "      <td>72782.09</td>\n",
       "    </tr>\n",
       "    <tr>\n",
       "      <th>2021</th>\n",
       "      <td>73559.25</td>\n",
       "    </tr>\n",
       "    <tr>\n",
       "      <th>2022</th>\n",
       "      <td>30654.78</td>\n",
       "    </tr>\n",
       "  </tbody>\n",
       "</table>\n",
       "</div>"
      ],
      "text/plain": [
       "      total_revenue\n",
       "year               \n",
       "2017       72683.82\n",
       "2018       74167.31\n",
       "2019       74330.87\n",
       "2020       72782.09\n",
       "2021       73559.25\n",
       "2022       30654.78"
      ]
     },
     "execution_count": 23,
     "metadata": {},
     "output_type": "execute_result"
    }
   ],
   "source": [
    "mod_ts.groupby(['year']).agg(total_revenue=('total_revenue', sum)).head(50)"
   ]
  },
  {
   "cell_type": "code",
   "execution_count": 24,
   "id": "super-study",
   "metadata": {
    "scrolled": true
   },
   "outputs": [
    {
     "data": {
      "text/html": [
       "<iframe\n",
       "    scrolling=\"no\"\n",
       "    width=\"100%\"\n",
       "    height=\"545px\"\n",
       "    src=\"iframe_figures/figure_24.html\"\n",
       "    frameborder=\"0\"\n",
       "    allowfullscreen\n",
       "></iframe>\n"
      ]
     },
     "metadata": {},
     "output_type": "display_data"
    }
   ],
   "source": [
    "#attempt 2 of graphing\n",
    "temp_ts = mod_ts.groupby('period').agg(total_revenue=('total_revenue', sum)).reset_index()\n",
    "data_temp = go.Scatter(x=temp_ts.period, y=temp_ts.total_revenue,\n",
    "                      mode=\"lines+markers+text\",\n",
    "                        name=\"Revenue per quarter\",\n",
    "                        text=[\"17.2k\", \"18.4k\", \"19.1k\", \"17.7k\", \"17.1k\", \"19.1k\"],\n",
    "                        textposition=\"top left\",\n",
    "                      line=dict(color='darkcyan', width=3))\n",
    "    \n",
    "go.Figure(\n",
    "    data=data_temp,\n",
    "    layout = go.Layout(\n",
    "        title ='Revenue trend per quarter',\n",
    "        yaxis=dict(\n",
    "         title='Revenue',\n",
    "         showticklabels=False,\n",
    "         #visible=False\n",
    "        )\n",
    "    )\n",
    ").show(renderer = 'iframe')"
   ]
  },
  {
   "cell_type": "code",
   "execution_count": 25,
   "id": "through-australian",
   "metadata": {
    "scrolled": true
   },
   "outputs": [
    {
     "data": {
      "text/html": [
       "<iframe\n",
       "    scrolling=\"no\"\n",
       "    width=\"100%\"\n",
       "    height=\"545px\"\n",
       "    src=\"iframe_figures/figure_25.html\"\n",
       "    frameborder=\"0\"\n",
       "    allowfullscreen\n",
       "></iframe>\n"
      ]
     },
     "metadata": {},
     "output_type": "display_data"
    }
   ],
   "source": [
    "# Adding revenue label\n",
    "temp_year_ts = mod_ts.groupby('year').agg(total_revenue=('total_revenue', sum)).reset_index()\n",
    "data_tempyear = go.Scatter(x=temp_year_ts.year, y=temp_year_ts.total_revenue,\n",
    "                      mode=\"lines+markers+text\",\n",
    "                        name=\"Revenue trend\",\n",
    "                        text=[\"72.6k\", \"74.1k\", \"74.3k\", \"72.7k\", \"73.5k\", \"30.6k\"],\n",
    "                        textposition=\"top left\",\n",
    "                      line=dict(color='darkcyan', width=3))\n",
    "    \n",
    "go.Figure(\n",
    "    data=data_tempyear,\n",
    "    layout = go.Layout(\n",
    "        title ='Yearly revenue trend',\n",
    "        yaxis=dict(\n",
    "         title='Revenue',\n",
    "         showticklabels=True,\n",
    "         #visible=False\n",
    "        )\n",
    "    )\n",
    ").show(renderer = 'iframe')"
   ]
  },
  {
   "cell_type": "code",
   "execution_count": null,
   "id": "precious-observation",
   "metadata": {},
   "outputs": [],
   "source": []
  }
 ],
 "metadata": {
  "kernelspec": {
   "display_name": "Python 3",
   "language": "python",
   "name": "python3"
  },
  "language_info": {
   "codemirror_mode": {
    "name": "ipython",
    "version": 3
   },
   "file_extension": ".py",
   "mimetype": "text/x-python",
   "name": "python",
   "nbconvert_exporter": "python",
   "pygments_lexer": "ipython3",
   "version": "3.8.6"
  }
 },
 "nbformat": 4,
 "nbformat_minor": 5
}
