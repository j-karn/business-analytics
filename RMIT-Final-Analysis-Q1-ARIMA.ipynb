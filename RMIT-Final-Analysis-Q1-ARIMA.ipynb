{
 "cells": [
  {
   "cell_type": "markdown",
   "id": "white-uncle",
   "metadata": {},
   "source": [
    "### Working question - what is SuperFoodsMax revenue forecast over next 24 months?"
   ]
  },
  {
   "cell_type": "code",
   "execution_count": 2,
   "id": "entire-bristol",
   "metadata": {
    "scrolled": true
   },
   "outputs": [
    {
     "data": {
      "text/plain": [
       "'0.12.2'"
      ]
     },
     "execution_count": 2,
     "metadata": {},
     "output_type": "execute_result"
    }
   ],
   "source": [
    "import pandas as pd\n",
    "from pandas.plotting import autocorrelation_plot\n",
    "import numpy as np\n",
    "import matplotlib.pyplot as plt\n",
    "%matplotlib inline\n",
    "from statsmodels.tsa.seasonal import seasonal_decompose #library for time series analysis\n",
    "from statsmodels.tsa.stattools import adfuller\n",
    "from statsmodels.tsa.arima_model import ARIMA\n",
    "import statsmodels\n",
    "statsmodels.__version__"
   ]
  },
  {
   "cell_type": "code",
   "execution_count": 3,
   "id": "flexible-midwest",
   "metadata": {
    "scrolled": true
   },
   "outputs": [],
   "source": [
    "#Create a dataframe based on the SuperFoodsMax dataset\n",
    "df = pd.read_csv(\"dataset_2017_2020_cleanJP.csv\")"
   ]
  },
  {
   "cell_type": "code",
   "execution_count": 4,
   "id": "changed-reset",
   "metadata": {
    "scrolled": true
   },
   "outputs": [
    {
     "data": {
      "text/plain": [
       "Index(['Unnamed: 0', 'customer_id', 'product_id', 'basket_id', 'loyalty',\n",
       "       'household_type', 'age_band', 'department', 'brand', 'commodity',\n",
       "       'store', 'transaction_date', 'price', 'days_since_first', 't_date',\n",
       "       'month', 'quarter', 'demo_child'],\n",
       "      dtype='object')"
      ]
     },
     "execution_count": 4,
     "metadata": {},
     "output_type": "execute_result"
    }
   ],
   "source": [
    "#List the columns in the dataset\n",
    "df.columns"
   ]
  },
  {
   "cell_type": "code",
   "execution_count": 5,
   "id": "cardiovascular-quebec",
   "metadata": {
    "scrolled": true
   },
   "outputs": [],
   "source": [
    "#Standardise dates in the dataframe to transform dates to the first day of the month and remove time references. \n",
    "#Note the new t_date variable\n",
    "df['transaction_date'] = df.transaction_date.str[:10] #avoid time in date\n",
    "df['t_date'] = pd.to_datetime(df.transaction_date) #convert to date format\n",
    "df['t_date'] = df.t_date + pd.offsets.MonthBegin(-1) #send dates to first day of the month"
   ]
  },
  {
   "cell_type": "code",
   "execution_count": 6,
   "id": "indoor-tissue",
   "metadata": {
    "scrolled": true
   },
   "outputs": [
    {
     "data": {
      "text/html": [
       "<div>\n",
       "<style scoped>\n",
       "    .dataframe tbody tr th:only-of-type {\n",
       "        vertical-align: middle;\n",
       "    }\n",
       "\n",
       "    .dataframe tbody tr th {\n",
       "        vertical-align: top;\n",
       "    }\n",
       "\n",
       "    .dataframe thead th {\n",
       "        text-align: right;\n",
       "    }\n",
       "</style>\n",
       "<table border=\"1\" class=\"dataframe\">\n",
       "  <thead>\n",
       "    <tr style=\"text-align: right;\">\n",
       "      <th></th>\n",
       "      <th>Unnamed: 0</th>\n",
       "      <th>customer_id</th>\n",
       "      <th>product_id</th>\n",
       "      <th>basket_id</th>\n",
       "      <th>loyalty</th>\n",
       "      <th>household_type</th>\n",
       "      <th>age_band</th>\n",
       "      <th>department</th>\n",
       "      <th>brand</th>\n",
       "      <th>commodity</th>\n",
       "      <th>store</th>\n",
       "      <th>transaction_date</th>\n",
       "      <th>price</th>\n",
       "      <th>days_since_first</th>\n",
       "      <th>t_date</th>\n",
       "      <th>month</th>\n",
       "      <th>quarter</th>\n",
       "      <th>demo_child</th>\n",
       "    </tr>\n",
       "  </thead>\n",
       "  <tbody>\n",
       "    <tr>\n",
       "      <th>0</th>\n",
       "      <td>0</td>\n",
       "      <td>15803</td>\n",
       "      <td>1131974</td>\n",
       "      <td>57266</td>\n",
       "      <td>Loyalist</td>\n",
       "      <td>1 adult with kids</td>\n",
       "      <td>19-24</td>\n",
       "      <td>Grocery</td>\n",
       "      <td>private</td>\n",
       "      <td>Baked bread/buns/rolls</td>\n",
       "      <td>374</td>\n",
       "      <td>2018-10-18</td>\n",
       "      <td>0.99</td>\n",
       "      <td>0</td>\n",
       "      <td>2018-10-01</td>\n",
       "      <td>10</td>\n",
       "      <td>Q4</td>\n",
       "      <td>kids</td>\n",
       "    </tr>\n",
       "    <tr>\n",
       "      <th>1</th>\n",
       "      <td>1</td>\n",
       "      <td>15803</td>\n",
       "      <td>1051516</td>\n",
       "      <td>57266</td>\n",
       "      <td>Loyalist</td>\n",
       "      <td>1 adult with kids</td>\n",
       "      <td>19-24</td>\n",
       "      <td>Produce</td>\n",
       "      <td>national</td>\n",
       "      <td>Vegetables - all others</td>\n",
       "      <td>374</td>\n",
       "      <td>2018-10-18</td>\n",
       "      <td>0.70</td>\n",
       "      <td>0</td>\n",
       "      <td>2018-10-01</td>\n",
       "      <td>10</td>\n",
       "      <td>Q4</td>\n",
       "      <td>kids</td>\n",
       "    </tr>\n",
       "    <tr>\n",
       "      <th>2</th>\n",
       "      <td>2</td>\n",
       "      <td>15803</td>\n",
       "      <td>967254</td>\n",
       "      <td>57266</td>\n",
       "      <td>Loyalist</td>\n",
       "      <td>1 adult with kids</td>\n",
       "      <td>19-24</td>\n",
       "      <td>Pharmaceutical</td>\n",
       "      <td>national</td>\n",
       "      <td>Cold and flu</td>\n",
       "      <td>374</td>\n",
       "      <td>2018-10-18</td>\n",
       "      <td>1.68</td>\n",
       "      <td>0</td>\n",
       "      <td>2018-10-01</td>\n",
       "      <td>10</td>\n",
       "      <td>Q4</td>\n",
       "      <td>kids</td>\n",
       "    </tr>\n",
       "    <tr>\n",
       "      <th>3</th>\n",
       "      <td>3</td>\n",
       "      <td>15803</td>\n",
       "      <td>1134222</td>\n",
       "      <td>57266</td>\n",
       "      <td>Loyalist</td>\n",
       "      <td>1 adult with kids</td>\n",
       "      <td>19-24</td>\n",
       "      <td>Grocery</td>\n",
       "      <td>private</td>\n",
       "      <td>Paper housewares</td>\n",
       "      <td>374</td>\n",
       "      <td>2018-10-18</td>\n",
       "      <td>2.59</td>\n",
       "      <td>0</td>\n",
       "      <td>2018-10-01</td>\n",
       "      <td>10</td>\n",
       "      <td>Q4</td>\n",
       "      <td>kids</td>\n",
       "    </tr>\n",
       "    <tr>\n",
       "      <th>4</th>\n",
       "      <td>4</td>\n",
       "      <td>15803</td>\n",
       "      <td>1003421</td>\n",
       "      <td>57266</td>\n",
       "      <td>Loyalist</td>\n",
       "      <td>1 adult with kids</td>\n",
       "      <td>19-24</td>\n",
       "      <td>Grocery</td>\n",
       "      <td>national</td>\n",
       "      <td>Soup</td>\n",
       "      <td>374</td>\n",
       "      <td>2018-10-18</td>\n",
       "      <td>0.60</td>\n",
       "      <td>0</td>\n",
       "      <td>2018-10-01</td>\n",
       "      <td>10</td>\n",
       "      <td>Q4</td>\n",
       "      <td>kids</td>\n",
       "    </tr>\n",
       "  </tbody>\n",
       "</table>\n",
       "</div>"
      ],
      "text/plain": [
       "   Unnamed: 0  customer_id  product_id  basket_id   loyalty  \\\n",
       "0           0        15803     1131974      57266  Loyalist   \n",
       "1           1        15803     1051516      57266  Loyalist   \n",
       "2           2        15803      967254      57266  Loyalist   \n",
       "3           3        15803     1134222      57266  Loyalist   \n",
       "4           4        15803     1003421      57266  Loyalist   \n",
       "\n",
       "      household_type age_band      department     brand  \\\n",
       "0  1 adult with kids    19-24         Grocery   private   \n",
       "1  1 adult with kids    19-24         Produce  national   \n",
       "2  1 adult with kids    19-24  Pharmaceutical  national   \n",
       "3  1 adult with kids    19-24         Grocery   private   \n",
       "4  1 adult with kids    19-24         Grocery  national   \n",
       "\n",
       "                 commodity  store transaction_date  price  days_since_first  \\\n",
       "0   Baked bread/buns/rolls    374       2018-10-18   0.99                 0   \n",
       "1  Vegetables - all others    374       2018-10-18   0.70                 0   \n",
       "2             Cold and flu    374       2018-10-18   1.68                 0   \n",
       "3         Paper housewares    374       2018-10-18   2.59                 0   \n",
       "4                     Soup    374       2018-10-18   0.60                 0   \n",
       "\n",
       "      t_date  month quarter demo_child  \n",
       "0 2018-10-01     10      Q4       kids  \n",
       "1 2018-10-01     10      Q4       kids  \n",
       "2 2018-10-01     10      Q4       kids  \n",
       "3 2018-10-01     10      Q4       kids  \n",
       "4 2018-10-01     10      Q4       kids  "
      ]
     },
     "execution_count": 6,
     "metadata": {},
     "output_type": "execute_result"
    }
   ],
   "source": [
    "df.head()"
   ]
  },
  {
   "cell_type": "code",
   "execution_count": 7,
   "id": "korean-brunswick",
   "metadata": {
    "scrolled": true
   },
   "outputs": [],
   "source": [
    "#create dataframe that will contain the time series.\n",
    "ts = df.groupby(['t_date']).agg(total_revenue=('price', sum)).reset_index()"
   ]
  },
  {
   "cell_type": "code",
   "execution_count": 8,
   "id": "designing-coating",
   "metadata": {
    "scrolled": true
   },
   "outputs": [
    {
     "data": {
      "text/html": [
       "<div>\n",
       "<style scoped>\n",
       "    .dataframe tbody tr th:only-of-type {\n",
       "        vertical-align: middle;\n",
       "    }\n",
       "\n",
       "    .dataframe tbody tr th {\n",
       "        vertical-align: top;\n",
       "    }\n",
       "\n",
       "    .dataframe thead th {\n",
       "        text-align: right;\n",
       "    }\n",
       "</style>\n",
       "<table border=\"1\" class=\"dataframe\">\n",
       "  <thead>\n",
       "    <tr style=\"text-align: right;\">\n",
       "      <th></th>\n",
       "      <th>t_date</th>\n",
       "      <th>total_revenue</th>\n",
       "    </tr>\n",
       "  </thead>\n",
       "  <tbody>\n",
       "    <tr>\n",
       "      <th>0</th>\n",
       "      <td>2017-01-01</td>\n",
       "      <td>5287.93</td>\n",
       "    </tr>\n",
       "    <tr>\n",
       "      <th>1</th>\n",
       "      <td>2017-02-01</td>\n",
       "      <td>5690.26</td>\n",
       "    </tr>\n",
       "    <tr>\n",
       "      <th>2</th>\n",
       "      <td>2017-03-01</td>\n",
       "      <td>6295.21</td>\n",
       "    </tr>\n",
       "    <tr>\n",
       "      <th>3</th>\n",
       "      <td>2017-04-01</td>\n",
       "      <td>5804.32</td>\n",
       "    </tr>\n",
       "    <tr>\n",
       "      <th>4</th>\n",
       "      <td>2017-05-01</td>\n",
       "      <td>5461.15</td>\n",
       "    </tr>\n",
       "  </tbody>\n",
       "</table>\n",
       "</div>"
      ],
      "text/plain": [
       "      t_date  total_revenue\n",
       "0 2017-01-01        5287.93\n",
       "1 2017-02-01        5690.26\n",
       "2 2017-03-01        6295.21\n",
       "3 2017-04-01        5804.32\n",
       "4 2017-05-01        5461.15"
      ]
     },
     "execution_count": 8,
     "metadata": {},
     "output_type": "execute_result"
    }
   ],
   "source": [
    "ts.head()"
   ]
  },
  {
   "cell_type": "markdown",
   "id": "quick-trauma",
   "metadata": {},
   "source": [
    "<h2> Training Dataset </h2>"
   ]
  },
  {
   "cell_type": "code",
   "execution_count": 9,
   "id": "continued-innocent",
   "metadata": {
    "scrolled": true
   },
   "outputs": [
    {
     "data": {
      "text/plain": [
       "(36, 1)"
      ]
     },
     "execution_count": 9,
     "metadata": {},
     "output_type": "execute_result"
    }
   ],
   "source": [
    "#Grab 3 years of data; we will eventually use this as our training data for our time series model.\n",
    "training = ts.loc[ts.t_date < '2020-01-01'].set_index('t_date')\n",
    "training.shape"
   ]
  },
  {
   "cell_type": "code",
   "execution_count": 10,
   "id": "upper-degree",
   "metadata": {
    "scrolled": true
   },
   "outputs": [
    {
     "data": {
      "image/png": "[encoded data removed]",
      "text/plain": [
       "<Figure size 432x288 with 1 Axes>"
      ]
     },
     "metadata": {
      "needs_background": "light"
     },
     "output_type": "display_data"
    }
   ],
   "source": [
    "#checking how it looks\n",
    "training.plot();"
   ]
  },
  {
   "cell_type": "markdown",
   "id": "handmade-prompt",
   "metadata": {},
   "source": [
    "<h2> Seasonal Decompose </h2>"
   ]
  },
  {
   "cell_type": "code",
   "execution_count": 11,
   "id": "popular-friday",
   "metadata": {
    "scrolled": true
   },
   "outputs": [
    {
     "data": {
      "image/png": "[encoded data removed]",
      "text/plain": [
       "<Figure size 432x288 with 4 Axes>"
      ]
     },
     "metadata": {
      "needs_background": "light"
     },
     "output_type": "display_data"
    }
   ],
   "source": [
    "ts_components = seasonal_decompose(training)\n",
    "ts_components.plot();"
   ]
  },
  {
   "cell_type": "markdown",
   "id": "institutional-forward",
   "metadata": {},
   "source": [
    "### Check for stationarity using mean and variance"
   ]
  },
  {
   "cell_type": "code",
   "execution_count": 12,
   "id": "ancient-shape",
   "metadata": {
    "scrolled": true
   },
   "outputs": [
    {
     "name": "stdout",
     "output_type": "stream",
     "text": [
      "Mean 1 & 2 =  6052 6236\n",
      "Variance 1 & 2 =  438684 690690\n"
     ]
    }
   ],
   "source": [
    "#Split the training data in half\n",
    "split = round(len(training) / 2) # Find mid-point\n",
    "x1 = training[0:split] # Extract first half\n",
    "x2 = training[split:]  # Extract second half\n",
    "\n",
    "# Calculate means\n",
    "mean1= x1.mean()\n",
    "mean2= x2.mean()\n",
    "print(\"Mean 1 & 2 = \", round(mean1[0]), round(mean2[0]))\n",
    "\n",
    "# Calculate variances\n",
    "var1=x1.var()\n",
    "var2=x2.var()\n",
    "print(\"Variance 1 & 2 = \",round(var1[0]), round(var2[0]))"
   ]
  },
  {
   "cell_type": "markdown",
   "id": "intellectual-nepal",
   "metadata": {},
   "source": [
    "\n",
    "### Check for stationarity using Augmented Dickey-Fuller Test"
   ]
  },
  {
   "cell_type": "code",
   "execution_count": 13,
   "id": "regional-arlington",
   "metadata": {
    "scrolled": true
   },
   "outputs": [
    {
     "name": "stdout",
     "output_type": "stream",
     "text": [
      "ADF test =  -3.857628515186847\n",
      "p-value =  0.0023697784488863134\n"
     ]
    }
   ],
   "source": [
    "# Run test:\n",
    "test_adf = adfuller(training)\n",
    "\n",
    "#Output the results:\n",
    "print('ADF test = ', test_adf[0])\n",
    "print('p-value = ', test_adf[1])"
   ]
  },
  {
   "cell_type": "markdown",
   "id": "skilled-vacation",
   "metadata": {},
   "source": [
    "\n",
    "Given that the ADF value is negative and p-value < 0.05, we can reject the null hyphotesis and assume that our time series is stationary\n"
   ]
  },
  {
   "cell_type": "markdown",
   "id": "taken-camera",
   "metadata": {},
   "source": [
    "\n",
    "### Check autocorrelation to choose a p parameter for ARIMA model"
   ]
  },
  {
   "cell_type": "code",
   "execution_count": 14,
   "id": "tracked-conviction",
   "metadata": {
    "scrolled": true
   },
   "outputs": [
    {
     "data": {
      "image/png": "[encoded data removed]",
      "text/plain": [
       "<Figure size 432x288 with 1 Axes>"
      ]
     },
     "metadata": {
      "needs_background": "light"
     },
     "output_type": "display_data"
    }
   ],
   "source": [
    "#11\n",
    "# The autocorrelation plot will help us to define one of the parameters of the ARIMA model (parameter p)\n",
    "# An autocorrelation is the correlation of a signal with a delayed copy of itself.\n",
    "# When a correlation value is closer to 0 it is telling us that there is randomness in our data; \n",
    "# a correlation of 1 (or -1) means we can use the delayed series to predict the current series entirely (which is ideal and uncommon). \n",
    "\n",
    "autocorrelation_plot(training);"
   ]
  },
  {
   "cell_type": "markdown",
   "id": "lonely-model",
   "metadata": {},
   "source": [
    "\n",
    "\n",
    "### Define a test dataset"
   ]
  },
  {
   "cell_type": "code",
   "execution_count": 15,
   "id": "medieval-flooring",
   "metadata": {
    "scrolled": true
   },
   "outputs": [
    {
     "name": "stdout",
     "output_type": "stream",
     "text": [
      "            total_revenue\n",
      "t_date                   \n",
      "2020-01-01        5242.21\n",
      "2020-02-01        6205.57\n",
      "2020-03-01        5835.69\n",
      "2020-04-01        6380.56\n",
      "2020-05-01        6235.96\n"
     ]
    }
   ],
   "source": [
    "# Extract all data after and including Jan 2020.\n",
    "test = ts.loc[ts.t_date >= '2020-01-01'].set_index('t_date')\n",
    "\n",
    "# Have a look at our test datset:\n",
    "print(test)"
   ]
  },
  {
   "cell_type": "markdown",
   "id": "cardiac-ensemble",
   "metadata": {},
   "source": [
    "### Prepare data for ARIMA model"
   ]
  },
  {
   "cell_type": "code",
   "execution_count": 21,
   "id": "determined-transparency",
   "metadata": {
    "scrolled": true
   },
   "outputs": [],
   "source": [
    "# Transform our data in a series, where the index is the time series\n",
    "whole = ts.set_index('t_date').squeeze().copy()\n",
    "# history is going to countain our training data as a time series\n",
    "history = whole.take(range(36))\n",
    "# future contains the test data, also as a time series\n",
    "future = test.squeeze().copy()"
   ]
  },
  {
   "cell_type": "code",
   "execution_count": 22,
   "id": "foster-image",
   "metadata": {
    "scrolled": true
   },
   "outputs": [
    {
     "name": "stdout",
     "output_type": "stream",
     "text": [
      "2020-01-01 00:00:00\n",
      "prediction: [6816.96] , expected: 5242.21 , stderr: [648.91] , conf. int: [[5545.12 8088.79]]\n",
      "2020-02-01 00:00:00\n",
      "prediction: [5947.88] , expected: 6205.57 , stderr: [685.39] , conf. int: [[4604.53 7291.22]]\n",
      "2020-03-01 00:00:00\n",
      "prediction: [5930.47] , expected: 5835.69 , stderr: [677.28] , conf. int: [[4603.02 7257.91]]\n",
      "2020-04-01 00:00:00\n",
      "prediction: [6348.98] , expected: 6380.56 , stderr: [668.6] , conf. int: [[5038.54 7659.41]]\n",
      "2020-05-01 00:00:00\n",
      "prediction: [6176.65] , expected: 6235.96 , stderr: [660.18] , conf. int: [[4882.73 7470.57]]\n"
     ]
    }
   ],
   "source": [
    "for t in range(len(future)):\n",
    "    \n",
    "    # create our model using our dataset, specify the parameters of the method, p=3, d=0 as our data is stationary, q=0\n",
    "    # parameter freq is used to define the frequency we have our data on, in this case it's MS or MonthStart\n",
    "    model = ARIMA(history, order=(3,0,0), freq='MS')\n",
    "    \n",
    "    # use the fit method so the model is prepared with the training data\n",
    "    model_fit = model.fit(disp=0)\n",
    "    \n",
    "    # use the forecast method to compute the predictions, in this case we just want the prediction for the next month\n",
    "    # change steps value to increase the prediction range\n",
    "    # Output will return three values:\n",
    "    # 0 - the list of predicted values with size steps \n",
    "    # 1 - the calculated standard error of the prediction\n",
    "    # 2 - the confidence interval of the prediction given the standard error\n",
    "    output = model_fit.forecast(steps=1)\n",
    "    \n",
    "    # yhat is the value predicted by the model, in this case just one month\n",
    "    yhat = output[0].round(2) \n",
    "    # stderr is the standard error of the prediction:\n",
    "    stderr = output[1].round(2) \n",
    "    \n",
    "    #confint is the confidnece interval given the standard error:\n",
    "    confint = output[2].round(2) \n",
    "    \n",
    "    # obs is the actual value observed for the predicted month, so we will compare predicted value v observed (real) value\n",
    "    month = future.index[t]\n",
    "    obs = future[t].round(2)\n",
    "    \n",
    "    # print the forecast revenue vs the observed revenue (since Jan 2020)\n",
    "    print(month)\n",
    "    print('prediction:', yhat, ', expected:', obs, ', stderr:', stderr, ', conf. int:', confint)\n",
    "    \n",
    "    # note that with each run, ARIMA will be run with the last observed value, so we just extend from the original time series\n",
    "    history = whole.take(range(36 + t+1))\n",
    "    "
   ]
  },
  {
   "cell_type": "markdown",
   "id": "normal-thread",
   "metadata": {},
   "source": [
    "### Forecast new data into the future.\n",
    "Forecasting 12 steps forward. The prediction is extended to investigate data from June 2020 to May 2021."
   ]
  },
  {
   "cell_type": "code",
   "execution_count": 23,
   "id": "demographic-account",
   "metadata": {
    "scrolled": true
   },
   "outputs": [],
   "source": [
    "# Predict the revenue of the next 12 months (from June 2020 to May 2021)\n",
    "# Running ARMA again so it captures the last observed value\n",
    "\n",
    "model = ARIMA(history, order=(3,0,0), freq='MS')\n",
    "model_fit = model.fit(disp=0)\n",
    "output = model_fit.forecast(steps=24)"
   ]
  },
  {
   "cell_type": "markdown",
   "id": "painful-insurance",
   "metadata": {},
   "source": [
    "### Interpret the results of our forecast"
   ]
  },
  {
   "cell_type": "code",
   "execution_count": 24,
   "id": "brave-bermuda",
   "metadata": {
    "scrolled": true
   },
   "outputs": [
    {
     "data": {
      "text/plain": [
       "array([6187.48, 6046.13, 6083.43, 6123.55, 6162.75, 6148.99, 6129.72,\n",
       "       6118.65, 6124.75, 6132.72, 6135.73, 6132.94, 6129.87, 6129.15,\n",
       "       6130.39, 6131.52, 6131.64, 6131.1 , 6130.71, 6130.72, 6130.94,\n",
       "       6131.08, 6131.05, 6130.96])"
      ]
     },
     "execution_count": 24,
     "metadata": {},
     "output_type": "execute_result"
    }
   ],
   "source": [
    "output[0].round(2) # The first set of output shows the predicted values for the following twelve months."
   ]
  },
  {
   "cell_type": "markdown",
   "id": "annoying-poland",
   "metadata": {},
   "source": [
    "The revenue is predicted to remain steady with little trends.\n",
    "\n",
    "While we can train and make predictions with our model, the autocorrelation plot showed us that there is a random effect in our data, so the predictions done with our method will be less accurate."
   ]
  },
  {
   "cell_type": "code",
   "execution_count": 25,
   "id": "wooden-warrant",
   "metadata": {
    "scrolled": true
   },
   "outputs": [
    {
     "data": {
      "text/plain": [
       "array([[4909.34, 7465.62],\n",
       "       [4762.71, 7329.55],\n",
       "       [4785.61, 7381.25],\n",
       "       [4762.13, 7484.96],\n",
       "       [4800.73, 7524.78],\n",
       "       [4781.83, 7516.15],\n",
       "       [4755.62, 7503.83],\n",
       "       [4744.54, 7492.77],\n",
       "       [4749.49, 7500.01],\n",
       "       [4756.67, 7508.77],\n",
       "       [4759.68, 7511.78],\n",
       "       [4756.68, 7509.21],\n",
       "       [4753.52, 7506.22],\n",
       "       [4752.8 , 7505.51],\n",
       "       [4754.  , 7506.78],\n",
       "       [4755.13, 7507.92],\n",
       "       [4755.24, 7508.04],\n",
       "       [4754.7 , 7507.51],\n",
       "       [4754.3 , 7507.11],\n",
       "       [4754.32, 7507.13],\n",
       "       [4754.54, 7507.35],\n",
       "       [4754.67, 7507.48],\n",
       "       [4754.64, 7507.46],\n",
       "       [4754.55, 7507.37]])"
      ]
     },
     "execution_count": 25,
     "metadata": {},
     "output_type": "execute_result"
    }
   ],
   "source": [
    "# Confidence intervals:\n",
    "output[2].round(2)"
   ]
  },
  {
   "cell_type": "code",
   "execution_count": null,
   "id": "british-disposal",
   "metadata": {},
   "outputs": [],
   "source": []
  }
 ],
 "metadata": {
  "kernelspec": {
   "display_name": "Python 3",
   "language": "python",
   "name": "python3"
  },
  "language_info": {
   "codemirror_mode": {
    "name": "ipython",
    "version": 3
   },
   "file_extension": ".py",
   "mimetype": "text/x-python",
   "name": "python",
   "nbconvert_exporter": "python",
   "pygments_lexer": "ipython3",
   "version": "3.8.6"
  }
 },
 "nbformat": 4,
 "nbformat_minor": 5
}
