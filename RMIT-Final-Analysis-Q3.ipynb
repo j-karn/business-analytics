{
 "cells": [
  {
   "cell_type": "markdown",
   "id": "lesbian-ministry",
   "metadata": {},
   "source": [
    "### What commodities can support the drive for growth?"
   ]
  },
  {
   "cell_type": "code",
   "execution_count": 1,
   "id": "assigned-celtic",
   "metadata": {
    "scrolled": true
   },
   "outputs": [],
   "source": [
    "import pandas as pd\n",
    "import plotly.graph_objects as go\n",
    "import seaborn as sns\n",
    "import matplotlib.pyplot as plt"
   ]
  },
  {
   "cell_type": "code",
   "execution_count": 2,
   "id": "excited-trigger",
   "metadata": {
    "scrolled": true
   },
   "outputs": [],
   "source": [
    "df = pd.read_csv('dataset_2017_2020_cleanJP.csv')"
   ]
  },
  {
   "cell_type": "code",
   "execution_count": 3,
   "id": "advance-perry",
   "metadata": {
    "scrolled": true
   },
   "outputs": [
    {
     "data": {
      "text/html": [
       "<div>\n",
       "<style scoped>\n",
       "    .dataframe tbody tr th:only-of-type {\n",
       "        vertical-align: middle;\n",
       "    }\n",
       "\n",
       "    .dataframe tbody tr th {\n",
       "        vertical-align: top;\n",
       "    }\n",
       "\n",
       "    .dataframe thead th {\n",
       "        text-align: right;\n",
       "    }\n",
       "</style>\n",
       "<table border=\"1\" class=\"dataframe\">\n",
       "  <thead>\n",
       "    <tr style=\"text-align: right;\">\n",
       "      <th></th>\n",
       "      <th>Unnamed: 0</th>\n",
       "      <th>customer_id</th>\n",
       "      <th>product_id</th>\n",
       "      <th>basket_id</th>\n",
       "      <th>loyalty</th>\n",
       "      <th>household_type</th>\n",
       "      <th>age_band</th>\n",
       "      <th>department</th>\n",
       "      <th>brand</th>\n",
       "      <th>commodity</th>\n",
       "      <th>store</th>\n",
       "      <th>transaction_date</th>\n",
       "      <th>price</th>\n",
       "      <th>days_since_first</th>\n",
       "      <th>t_date</th>\n",
       "      <th>month</th>\n",
       "      <th>quarter</th>\n",
       "      <th>demo_child</th>\n",
       "    </tr>\n",
       "  </thead>\n",
       "  <tbody>\n",
       "    <tr>\n",
       "      <th>0</th>\n",
       "      <td>0</td>\n",
       "      <td>15803</td>\n",
       "      <td>1131974</td>\n",
       "      <td>57266</td>\n",
       "      <td>Loyalist</td>\n",
       "      <td>1 adult with kids</td>\n",
       "      <td>19-24</td>\n",
       "      <td>Grocery</td>\n",
       "      <td>private</td>\n",
       "      <td>Baked bread/buns/rolls</td>\n",
       "      <td>374</td>\n",
       "      <td>2018-10-18</td>\n",
       "      <td>0.99</td>\n",
       "      <td>0</td>\n",
       "      <td>2018-10-01</td>\n",
       "      <td>10</td>\n",
       "      <td>Q4</td>\n",
       "      <td>kids</td>\n",
       "    </tr>\n",
       "    <tr>\n",
       "      <th>1</th>\n",
       "      <td>1</td>\n",
       "      <td>15803</td>\n",
       "      <td>1051516</td>\n",
       "      <td>57266</td>\n",
       "      <td>Loyalist</td>\n",
       "      <td>1 adult with kids</td>\n",
       "      <td>19-24</td>\n",
       "      <td>Produce</td>\n",
       "      <td>national</td>\n",
       "      <td>Vegetables - all others</td>\n",
       "      <td>374</td>\n",
       "      <td>2018-10-18</td>\n",
       "      <td>0.70</td>\n",
       "      <td>0</td>\n",
       "      <td>2018-10-01</td>\n",
       "      <td>10</td>\n",
       "      <td>Q4</td>\n",
       "      <td>kids</td>\n",
       "    </tr>\n",
       "    <tr>\n",
       "      <th>2</th>\n",
       "      <td>2</td>\n",
       "      <td>15803</td>\n",
       "      <td>967254</td>\n",
       "      <td>57266</td>\n",
       "      <td>Loyalist</td>\n",
       "      <td>1 adult with kids</td>\n",
       "      <td>19-24</td>\n",
       "      <td>Pharmaceutical</td>\n",
       "      <td>national</td>\n",
       "      <td>Cold and flu</td>\n",
       "      <td>374</td>\n",
       "      <td>2018-10-18</td>\n",
       "      <td>1.68</td>\n",
       "      <td>0</td>\n",
       "      <td>2018-10-01</td>\n",
       "      <td>10</td>\n",
       "      <td>Q4</td>\n",
       "      <td>kids</td>\n",
       "    </tr>\n",
       "    <tr>\n",
       "      <th>3</th>\n",
       "      <td>3</td>\n",
       "      <td>15803</td>\n",
       "      <td>1134222</td>\n",
       "      <td>57266</td>\n",
       "      <td>Loyalist</td>\n",
       "      <td>1 adult with kids</td>\n",
       "      <td>19-24</td>\n",
       "      <td>Grocery</td>\n",
       "      <td>private</td>\n",
       "      <td>Paper housewares</td>\n",
       "      <td>374</td>\n",
       "      <td>2018-10-18</td>\n",
       "      <td>2.59</td>\n",
       "      <td>0</td>\n",
       "      <td>2018-10-01</td>\n",
       "      <td>10</td>\n",
       "      <td>Q4</td>\n",
       "      <td>kids</td>\n",
       "    </tr>\n",
       "    <tr>\n",
       "      <th>4</th>\n",
       "      <td>4</td>\n",
       "      <td>15803</td>\n",
       "      <td>1003421</td>\n",
       "      <td>57266</td>\n",
       "      <td>Loyalist</td>\n",
       "      <td>1 adult with kids</td>\n",
       "      <td>19-24</td>\n",
       "      <td>Grocery</td>\n",
       "      <td>national</td>\n",
       "      <td>Soup</td>\n",
       "      <td>374</td>\n",
       "      <td>2018-10-18</td>\n",
       "      <td>0.60</td>\n",
       "      <td>0</td>\n",
       "      <td>2018-10-01</td>\n",
       "      <td>10</td>\n",
       "      <td>Q4</td>\n",
       "      <td>kids</td>\n",
       "    </tr>\n",
       "  </tbody>\n",
       "</table>\n",
       "</div>"
      ],
      "text/plain": [
       "   Unnamed: 0  customer_id  product_id  basket_id   loyalty  \\\n",
       "0           0        15803     1131974      57266  Loyalist   \n",
       "1           1        15803     1051516      57266  Loyalist   \n",
       "2           2        15803      967254      57266  Loyalist   \n",
       "3           3        15803     1134222      57266  Loyalist   \n",
       "4           4        15803     1003421      57266  Loyalist   \n",
       "\n",
       "      household_type age_band      department     brand  \\\n",
       "0  1 adult with kids    19-24         Grocery   private   \n",
       "1  1 adult with kids    19-24         Produce  national   \n",
       "2  1 adult with kids    19-24  Pharmaceutical  national   \n",
       "3  1 adult with kids    19-24         Grocery   private   \n",
       "4  1 adult with kids    19-24         Grocery  national   \n",
       "\n",
       "                 commodity  store transaction_date  price  days_since_first  \\\n",
       "0   Baked bread/buns/rolls    374       2018-10-18   0.99                 0   \n",
       "1  Vegetables - all others    374       2018-10-18   0.70                 0   \n",
       "2             Cold and flu    374       2018-10-18   1.68                 0   \n",
       "3         Paper housewares    374       2018-10-18   2.59                 0   \n",
       "4                     Soup    374       2018-10-18   0.60                 0   \n",
       "\n",
       "       t_date  month quarter demo_child  \n",
       "0  2018-10-01     10      Q4       kids  \n",
       "1  2018-10-01     10      Q4       kids  \n",
       "2  2018-10-01     10      Q4       kids  \n",
       "3  2018-10-01     10      Q4       kids  \n",
       "4  2018-10-01     10      Q4       kids  "
      ]
     },
     "execution_count": 3,
     "metadata": {},
     "output_type": "execute_result"
    }
   ],
   "source": [
    "df.head()"
   ]
  },
  {
   "cell_type": "code",
   "execution_count": 4,
   "id": "brown-physics",
   "metadata": {
    "scrolled": true
   },
   "outputs": [
    {
     "data": {
      "text/plain": [
       "3479"
      ]
     },
     "execution_count": 4,
     "metadata": {},
     "output_type": "execute_result"
    }
   ],
   "source": [
    "#find out unique volume of basket\n",
    "df['basket_id'].nunique()"
   ]
  },
  {
   "cell_type": "code",
   "execution_count": 5,
   "id": "functioning-species",
   "metadata": {
    "scrolled": true
   },
   "outputs": [
    {
     "data": {
      "text/html": [
       "<div>\n",
       "<style scoped>\n",
       "    .dataframe tbody tr th:only-of-type {\n",
       "        vertical-align: middle;\n",
       "    }\n",
       "\n",
       "    .dataframe tbody tr th {\n",
       "        vertical-align: top;\n",
       "    }\n",
       "\n",
       "    .dataframe thead th {\n",
       "        text-align: right;\n",
       "    }\n",
       "</style>\n",
       "<table border=\"1\" class=\"dataframe\">\n",
       "  <thead>\n",
       "    <tr style=\"text-align: right;\">\n",
       "      <th></th>\n",
       "      <th></th>\n",
       "      <th>customer_id</th>\n",
       "      <th>basket_id</th>\n",
       "      <th>product_id</th>\n",
       "      <th>price</th>\n",
       "    </tr>\n",
       "    <tr>\n",
       "      <th>age_band</th>\n",
       "      <th>demo_child</th>\n",
       "      <th></th>\n",
       "      <th></th>\n",
       "      <th></th>\n",
       "      <th></th>\n",
       "    </tr>\n",
       "  </thead>\n",
       "  <tbody>\n",
       "    <tr>\n",
       "      <th rowspan=\"2\" valign=\"top\">19-24</th>\n",
       "      <th>kids</th>\n",
       "      <td>483</td>\n",
       "      <td>509</td>\n",
       "      <td>4707</td>\n",
       "      <td>37228.41</td>\n",
       "    </tr>\n",
       "    <tr>\n",
       "      <th>no kids</th>\n",
       "      <td>1145</td>\n",
       "      <td>1246</td>\n",
       "      <td>7232</td>\n",
       "      <td>92281.05</td>\n",
       "    </tr>\n",
       "    <tr>\n",
       "      <th rowspan=\"2\" valign=\"top\">25-34</th>\n",
       "      <th>kids</th>\n",
       "      <td>237</td>\n",
       "      <td>251</td>\n",
       "      <td>2984</td>\n",
       "      <td>17648.38</td>\n",
       "    </tr>\n",
       "    <tr>\n",
       "      <th>no kids</th>\n",
       "      <td>312</td>\n",
       "      <td>334</td>\n",
       "      <td>3584</td>\n",
       "      <td>23646.20</td>\n",
       "    </tr>\n",
       "    <tr>\n",
       "      <th rowspan=\"2\" valign=\"top\">35-44</th>\n",
       "      <th>kids</th>\n",
       "      <td>191</td>\n",
       "      <td>196</td>\n",
       "      <td>2437</td>\n",
       "      <td>14006.36</td>\n",
       "    </tr>\n",
       "    <tr>\n",
       "      <th>no kids</th>\n",
       "      <td>19</td>\n",
       "      <td>21</td>\n",
       "      <td>326</td>\n",
       "      <td>1300.82</td>\n",
       "    </tr>\n",
       "    <tr>\n",
       "      <th>45-54</th>\n",
       "      <th>kids</th>\n",
       "      <td>848</td>\n",
       "      <td>908</td>\n",
       "      <td>6232</td>\n",
       "      <td>64114.37</td>\n",
       "    </tr>\n",
       "    <tr>\n",
       "      <th>55-64</th>\n",
       "      <th>kids</th>\n",
       "      <td>6</td>\n",
       "      <td>6</td>\n",
       "      <td>133</td>\n",
       "      <td>430.66</td>\n",
       "    </tr>\n",
       "    <tr>\n",
       "      <th>Greater than 65</th>\n",
       "      <th>kids</th>\n",
       "      <td>8</td>\n",
       "      <td>8</td>\n",
       "      <td>141</td>\n",
       "      <td>425.74</td>\n",
       "    </tr>\n",
       "  </tbody>\n",
       "</table>\n",
       "</div>"
      ],
      "text/plain": [
       "                            customer_id  basket_id  product_id     price\n",
       "age_band        demo_child                                              \n",
       "19-24           kids                483        509        4707  37228.41\n",
       "                no kids            1145       1246        7232  92281.05\n",
       "25-34           kids                237        251        2984  17648.38\n",
       "                no kids             312        334        3584  23646.20\n",
       "35-44           kids                191        196        2437  14006.36\n",
       "                no kids              19         21         326   1300.82\n",
       "45-54           kids                848        908        6232  64114.37\n",
       "55-64           kids                  6          6         133    430.66\n",
       "Greater than 65 kids                  8          8         141    425.74"
      ]
     },
     "execution_count": 5,
     "metadata": {},
     "output_type": "execute_result"
    }
   ],
   "source": [
    "#how many product sold\n",
    "df.groupby(['age_band','demo_child']).agg({'customer_id': pd.Series.nunique,'basket_id': pd.Series.nunique,'product_id': pd.Series.nunique, 'price':'sum'})"
   ]
  },
  {
   "cell_type": "code",
   "execution_count": 6,
   "id": "convinced-hudson",
   "metadata": {
    "scrolled": true
   },
   "outputs": [
    {
     "data": {
      "text/plain": [
       "array([52237, 52210, 57357, ..., 80896, 81103, 81146], dtype=int64)"
      ]
     },
     "execution_count": 6,
     "metadata": {},
     "output_type": "execute_result"
    }
   ],
   "source": [
    "#create new df that remove any basket that as beef in it\n",
    "noBeefbasket = df[~df.basket_id.isin(df[df.commodity == 'Beef'].basket_id.unique())]\n",
    "noBeefbasket.basket_id.unique()"
   ]
  },
  {
   "cell_type": "code",
   "execution_count": 7,
   "id": "operating-dress",
   "metadata": {
    "scrolled": true
   },
   "outputs": [
    {
     "data": {
      "text/plain": [
       "1529"
      ]
     },
     "execution_count": 7,
     "metadata": {},
     "output_type": "execute_result"
    }
   ],
   "source": [
    "#count unique basket with no beef\n",
    "noBeefbasket['basket_id'].nunique()"
   ]
  },
  {
   "cell_type": "code",
   "execution_count": 8,
   "id": "accepted-primary",
   "metadata": {
    "scrolled": true
   },
   "outputs": [
    {
     "data": {
      "text/plain": [
       "0.4394941075021558"
      ]
     },
     "execution_count": 8,
     "metadata": {},
     "output_type": "execute_result"
    }
   ],
   "source": [
    "#percentage of no beef baskets in relation to all baskets\n",
    "noBeefbasket['basket_id'].nunique()/ df['basket_id'].nunique()"
   ]
  },
  {
   "cell_type": "code",
   "execution_count": 9,
   "id": "absent-router",
   "metadata": {
    "scrolled": true
   },
   "outputs": [
    {
     "data": {
      "text/plain": [
       "102677.42000000001"
      ]
     },
     "execution_count": 9,
     "metadata": {},
     "output_type": "execute_result"
    }
   ],
   "source": [
    "#Average basket value of NO beef basket\n",
    "noBeefbasket['price'].sum() #/ noBeefbasket['basket_id'].nunique()"
   ]
  },
  {
   "cell_type": "code",
   "execution_count": 10,
   "id": "ultimate-procurement",
   "metadata": {
    "scrolled": true
   },
   "outputs": [
    {
     "data": {
      "text/plain": [
       "1950"
      ]
     },
     "execution_count": 10,
     "metadata": {},
     "output_type": "execute_result"
    }
   ],
   "source": [
    "yesBeefbasket = df[df.basket_id.isin(df[df.commodity == 'Beef'].basket_id.unique())]\n",
    "yesBeefbasket['basket_id'].nunique()"
   ]
  },
  {
   "cell_type": "code",
   "execution_count": 11,
   "id": "toxic-shareware",
   "metadata": {
    "scrolled": true
   },
   "outputs": [
    {
     "data": {
      "text/plain": [
       "76.10490769230768"
      ]
     },
     "execution_count": 11,
     "metadata": {},
     "output_type": "execute_result"
    }
   ],
   "source": [
    "#Average basket value of YES beef basket\n",
    "yesBeefbasket['price'].sum() / yesBeefbasket['basket_id'].nunique()"
   ]
  },
  {
   "cell_type": "code",
   "execution_count": 12,
   "id": "affecting-resort",
   "metadata": {
    "scrolled": true
   },
   "outputs": [
    {
     "data": {
      "text/plain": [
       "1.1333008159100455"
      ]
     },
     "execution_count": 12,
     "metadata": {},
     "output_type": "execute_result"
    }
   ],
   "source": [
    "#difference in basket value of beef vs non-beef\n",
    "(yesBeefbasket['price'].sum() / yesBeefbasket['basket_id'].nunique()) / (noBeefbasket['price'].sum() / noBeefbasket['basket_id'].nunique())"
   ]
  },
  {
   "cell_type": "code",
   "execution_count": 13,
   "id": "stuffed-pressure",
   "metadata": {
    "scrolled": true
   },
   "outputs": [
    {
     "data": {
      "text/html": [
       "<div>\n",
       "<style scoped>\n",
       "    .dataframe tbody tr th:only-of-type {\n",
       "        vertical-align: middle;\n",
       "    }\n",
       "\n",
       "    .dataframe tbody tr th {\n",
       "        vertical-align: top;\n",
       "    }\n",
       "\n",
       "    .dataframe thead th {\n",
       "        text-align: right;\n",
       "    }\n",
       "</style>\n",
       "<table border=\"1\" class=\"dataframe\">\n",
       "  <thead>\n",
       "    <tr style=\"text-align: right;\">\n",
       "      <th></th>\n",
       "      <th>Unnamed: 0</th>\n",
       "      <th>customer_id</th>\n",
       "      <th>product_id</th>\n",
       "      <th>basket_id</th>\n",
       "      <th>loyalty</th>\n",
       "      <th>household_type</th>\n",
       "      <th>age_band</th>\n",
       "      <th>department</th>\n",
       "      <th>brand</th>\n",
       "      <th>commodity</th>\n",
       "      <th>store</th>\n",
       "      <th>transaction_date</th>\n",
       "      <th>price</th>\n",
       "      <th>days_since_first</th>\n",
       "      <th>t_date</th>\n",
       "      <th>month</th>\n",
       "      <th>quarter</th>\n",
       "      <th>demo_child</th>\n",
       "    </tr>\n",
       "  </thead>\n",
       "  <tbody>\n",
       "    <tr>\n",
       "      <th>0</th>\n",
       "      <td>0</td>\n",
       "      <td>15803</td>\n",
       "      <td>1131974</td>\n",
       "      <td>57266</td>\n",
       "      <td>Loyalist</td>\n",
       "      <td>1 adult with kids</td>\n",
       "      <td>19-24</td>\n",
       "      <td>Grocery</td>\n",
       "      <td>private</td>\n",
       "      <td>Baked bread/buns/rolls</td>\n",
       "      <td>374</td>\n",
       "      <td>2018-10-18</td>\n",
       "      <td>0.99</td>\n",
       "      <td>0</td>\n",
       "      <td>2018-10-01</td>\n",
       "      <td>10</td>\n",
       "      <td>Q4</td>\n",
       "      <td>kids</td>\n",
       "    </tr>\n",
       "    <tr>\n",
       "      <th>1</th>\n",
       "      <td>1</td>\n",
       "      <td>15803</td>\n",
       "      <td>1051516</td>\n",
       "      <td>57266</td>\n",
       "      <td>Loyalist</td>\n",
       "      <td>1 adult with kids</td>\n",
       "      <td>19-24</td>\n",
       "      <td>Produce</td>\n",
       "      <td>national</td>\n",
       "      <td>Vegetables - all others</td>\n",
       "      <td>374</td>\n",
       "      <td>2018-10-18</td>\n",
       "      <td>0.70</td>\n",
       "      <td>0</td>\n",
       "      <td>2018-10-01</td>\n",
       "      <td>10</td>\n",
       "      <td>Q4</td>\n",
       "      <td>kids</td>\n",
       "    </tr>\n",
       "    <tr>\n",
       "      <th>2</th>\n",
       "      <td>2</td>\n",
       "      <td>15803</td>\n",
       "      <td>967254</td>\n",
       "      <td>57266</td>\n",
       "      <td>Loyalist</td>\n",
       "      <td>1 adult with kids</td>\n",
       "      <td>19-24</td>\n",
       "      <td>Pharmaceutical</td>\n",
       "      <td>national</td>\n",
       "      <td>Cold and flu</td>\n",
       "      <td>374</td>\n",
       "      <td>2018-10-18</td>\n",
       "      <td>1.68</td>\n",
       "      <td>0</td>\n",
       "      <td>2018-10-01</td>\n",
       "      <td>10</td>\n",
       "      <td>Q4</td>\n",
       "      <td>kids</td>\n",
       "    </tr>\n",
       "    <tr>\n",
       "      <th>3</th>\n",
       "      <td>3</td>\n",
       "      <td>15803</td>\n",
       "      <td>1134222</td>\n",
       "      <td>57266</td>\n",
       "      <td>Loyalist</td>\n",
       "      <td>1 adult with kids</td>\n",
       "      <td>19-24</td>\n",
       "      <td>Grocery</td>\n",
       "      <td>private</td>\n",
       "      <td>Paper housewares</td>\n",
       "      <td>374</td>\n",
       "      <td>2018-10-18</td>\n",
       "      <td>2.59</td>\n",
       "      <td>0</td>\n",
       "      <td>2018-10-01</td>\n",
       "      <td>10</td>\n",
       "      <td>Q4</td>\n",
       "      <td>kids</td>\n",
       "    </tr>\n",
       "    <tr>\n",
       "      <th>4</th>\n",
       "      <td>4</td>\n",
       "      <td>15803</td>\n",
       "      <td>1003421</td>\n",
       "      <td>57266</td>\n",
       "      <td>Loyalist</td>\n",
       "      <td>1 adult with kids</td>\n",
       "      <td>19-24</td>\n",
       "      <td>Grocery</td>\n",
       "      <td>national</td>\n",
       "      <td>Soup</td>\n",
       "      <td>374</td>\n",
       "      <td>2018-10-18</td>\n",
       "      <td>0.60</td>\n",
       "      <td>0</td>\n",
       "      <td>2018-10-01</td>\n",
       "      <td>10</td>\n",
       "      <td>Q4</td>\n",
       "      <td>kids</td>\n",
       "    </tr>\n",
       "  </tbody>\n",
       "</table>\n",
       "</div>"
      ],
      "text/plain": [
       "   Unnamed: 0  customer_id  product_id  basket_id   loyalty  \\\n",
       "0           0        15803     1131974      57266  Loyalist   \n",
       "1           1        15803     1051516      57266  Loyalist   \n",
       "2           2        15803      967254      57266  Loyalist   \n",
       "3           3        15803     1134222      57266  Loyalist   \n",
       "4           4        15803     1003421      57266  Loyalist   \n",
       "\n",
       "      household_type age_band      department     brand  \\\n",
       "0  1 adult with kids    19-24         Grocery   private   \n",
       "1  1 adult with kids    19-24         Produce  national   \n",
       "2  1 adult with kids    19-24  Pharmaceutical  national   \n",
       "3  1 adult with kids    19-24         Grocery   private   \n",
       "4  1 adult with kids    19-24         Grocery  national   \n",
       "\n",
       "                 commodity  store transaction_date  price  days_since_first  \\\n",
       "0   Baked bread/buns/rolls    374       2018-10-18   0.99                 0   \n",
       "1  Vegetables - all others    374       2018-10-18   0.70                 0   \n",
       "2             Cold and flu    374       2018-10-18   1.68                 0   \n",
       "3         Paper housewares    374       2018-10-18   2.59                 0   \n",
       "4                     Soup    374       2018-10-18   0.60                 0   \n",
       "\n",
       "       t_date  month quarter demo_child  \n",
       "0  2018-10-01     10      Q4       kids  \n",
       "1  2018-10-01     10      Q4       kids  \n",
       "2  2018-10-01     10      Q4       kids  \n",
       "3  2018-10-01     10      Q4       kids  \n",
       "4  2018-10-01     10      Q4       kids  "
      ]
     },
     "execution_count": 13,
     "metadata": {},
     "output_type": "execute_result"
    }
   ],
   "source": [
    "yesBeefbasket.head()"
   ]
  },
  {
   "cell_type": "code",
   "execution_count": 14,
   "id": "stunning-spell",
   "metadata": {
    "scrolled": true
   },
   "outputs": [
    {
     "data": {
      "text/html": [
       "<div>\n",
       "<style scoped>\n",
       "    .dataframe tbody tr th:only-of-type {\n",
       "        vertical-align: middle;\n",
       "    }\n",
       "\n",
       "    .dataframe tbody tr th {\n",
       "        vertical-align: top;\n",
       "    }\n",
       "\n",
       "    .dataframe thead th {\n",
       "        text-align: right;\n",
       "    }\n",
       "</style>\n",
       "<table border=\"1\" class=\"dataframe\">\n",
       "  <thead>\n",
       "    <tr style=\"text-align: right;\">\n",
       "      <th></th>\n",
       "      <th></th>\n",
       "      <th></th>\n",
       "      <th>number_basket</th>\n",
       "    </tr>\n",
       "    <tr>\n",
       "      <th>age_band</th>\n",
       "      <th>demo_child</th>\n",
       "      <th>household_type</th>\n",
       "      <th></th>\n",
       "    </tr>\n",
       "  </thead>\n",
       "  <tbody>\n",
       "    <tr>\n",
       "      <th rowspan=\"5\" valign=\"top\">19-24</th>\n",
       "      <th rowspan=\"2\" valign=\"top\">kids</th>\n",
       "      <th>1 adult with kids</th>\n",
       "      <td>214</td>\n",
       "    </tr>\n",
       "    <tr>\n",
       "      <th>2 adults with kids</th>\n",
       "      <td>69</td>\n",
       "    </tr>\n",
       "    <tr>\n",
       "      <th rowspan=\"3\" valign=\"top\">no kids</th>\n",
       "      <th>2 adults with no kids</th>\n",
       "      <td>323</td>\n",
       "    </tr>\n",
       "    <tr>\n",
       "      <th>Single female</th>\n",
       "      <td>147</td>\n",
       "    </tr>\n",
       "    <tr>\n",
       "      <th>Single male</th>\n",
       "      <td>243</td>\n",
       "    </tr>\n",
       "    <tr>\n",
       "      <th rowspan=\"5\" valign=\"top\">25-34</th>\n",
       "      <th rowspan=\"2\" valign=\"top\">kids</th>\n",
       "      <th>1 adult with kids</th>\n",
       "      <td>117</td>\n",
       "    </tr>\n",
       "    <tr>\n",
       "      <th>2 adults with kids</th>\n",
       "      <td>17</td>\n",
       "    </tr>\n",
       "    <tr>\n",
       "      <th rowspan=\"3\" valign=\"top\">no kids</th>\n",
       "      <th>2 adults with no kids</th>\n",
       "      <td>81</td>\n",
       "    </tr>\n",
       "    <tr>\n",
       "      <th>Single female</th>\n",
       "      <td>28</td>\n",
       "    </tr>\n",
       "    <tr>\n",
       "      <th>Single male</th>\n",
       "      <td>62</td>\n",
       "    </tr>\n",
       "    <tr>\n",
       "      <th rowspan=\"4\" valign=\"top\">35-44</th>\n",
       "      <th rowspan=\"2\" valign=\"top\">kids</th>\n",
       "      <th>1 adult with kids</th>\n",
       "      <td>107</td>\n",
       "    </tr>\n",
       "    <tr>\n",
       "      <th>2 adults with kids</th>\n",
       "      <td>4</td>\n",
       "    </tr>\n",
       "    <tr>\n",
       "      <th rowspan=\"2\" valign=\"top\">no kids</th>\n",
       "      <th>2 adults with no kids</th>\n",
       "      <td>6</td>\n",
       "    </tr>\n",
       "    <tr>\n",
       "      <th>Single male</th>\n",
       "      <td>3</td>\n",
       "    </tr>\n",
       "    <tr>\n",
       "      <th rowspan=\"2\" valign=\"top\">45-54</th>\n",
       "      <th rowspan=\"2\" valign=\"top\">kids</th>\n",
       "      <th>1 adult with kids</th>\n",
       "      <td>25</td>\n",
       "    </tr>\n",
       "    <tr>\n",
       "      <th>2 adults with kids</th>\n",
       "      <td>496</td>\n",
       "    </tr>\n",
       "    <tr>\n",
       "      <th rowspan=\"2\" valign=\"top\">55-64</th>\n",
       "      <th rowspan=\"2\" valign=\"top\">kids</th>\n",
       "      <th>1 adult with kids</th>\n",
       "      <td>1</td>\n",
       "    </tr>\n",
       "    <tr>\n",
       "      <th>2 adults with kids</th>\n",
       "      <td>4</td>\n",
       "    </tr>\n",
       "    <tr>\n",
       "      <th>Greater than 65</th>\n",
       "      <th>kids</th>\n",
       "      <th>2 adults with kids</th>\n",
       "      <td>3</td>\n",
       "    </tr>\n",
       "  </tbody>\n",
       "</table>\n",
       "</div>"
      ],
      "text/plain": [
       "                                                  number_basket\n",
       "age_band        demo_child household_type                      \n",
       "19-24           kids       1 adult with kids                214\n",
       "                           2 adults with kids                69\n",
       "                no kids    2 adults with no kids            323\n",
       "                           Single female                    147\n",
       "                           Single male                      243\n",
       "25-34           kids       1 adult with kids                117\n",
       "                           2 adults with kids                17\n",
       "                no kids    2 adults with no kids             81\n",
       "                           Single female                     28\n",
       "                           Single male                       62\n",
       "35-44           kids       1 adult with kids                107\n",
       "                           2 adults with kids                 4\n",
       "                no kids    2 adults with no kids              6\n",
       "                           Single male                        3\n",
       "45-54           kids       1 adult with kids                 25\n",
       "                           2 adults with kids               496\n",
       "55-64           kids       1 adult with kids                  1\n",
       "                           2 adults with kids                 4\n",
       "Greater than 65 kids       2 adults with kids                 3"
      ]
     },
     "execution_count": 14,
     "metadata": {},
     "output_type": "execute_result"
    }
   ],
   "source": [
    "yesBeefbasket.groupby(['age_band','demo_child', 'household_type']).agg(number_basket=('basket_id', pd.Series.nunique))"
   ]
  },
  {
   "cell_type": "code",
   "execution_count": 15,
   "id": "aging-works",
   "metadata": {
    "scrolled": true
   },
   "outputs": [
    {
     "data": {
      "text/html": [
       "<div>\n",
       "<style scoped>\n",
       "    .dataframe tbody tr th:only-of-type {\n",
       "        vertical-align: middle;\n",
       "    }\n",
       "\n",
       "    .dataframe tbody tr th {\n",
       "        vertical-align: top;\n",
       "    }\n",
       "\n",
       "    .dataframe thead th {\n",
       "        text-align: right;\n",
       "    }\n",
       "</style>\n",
       "<table border=\"1\" class=\"dataframe\">\n",
       "  <thead>\n",
       "    <tr style=\"text-align: right;\">\n",
       "      <th></th>\n",
       "      <th></th>\n",
       "      <th>number_basket</th>\n",
       "    </tr>\n",
       "    <tr>\n",
       "      <th>age_band</th>\n",
       "      <th>demo_child</th>\n",
       "      <th></th>\n",
       "    </tr>\n",
       "  </thead>\n",
       "  <tbody>\n",
       "    <tr>\n",
       "      <th rowspan=\"2\" valign=\"top\">19-24</th>\n",
       "      <th>kids</th>\n",
       "      <td>226</td>\n",
       "    </tr>\n",
       "    <tr>\n",
       "      <th>no kids</th>\n",
       "      <td>533</td>\n",
       "    </tr>\n",
       "    <tr>\n",
       "      <th rowspan=\"2\" valign=\"top\">25-34</th>\n",
       "      <th>kids</th>\n",
       "      <td>117</td>\n",
       "    </tr>\n",
       "    <tr>\n",
       "      <th>no kids</th>\n",
       "      <td>163</td>\n",
       "    </tr>\n",
       "    <tr>\n",
       "      <th rowspan=\"2\" valign=\"top\">35-44</th>\n",
       "      <th>kids</th>\n",
       "      <td>85</td>\n",
       "    </tr>\n",
       "    <tr>\n",
       "      <th>no kids</th>\n",
       "      <td>12</td>\n",
       "    </tr>\n",
       "    <tr>\n",
       "      <th>45-54</th>\n",
       "      <th>kids</th>\n",
       "      <td>387</td>\n",
       "    </tr>\n",
       "    <tr>\n",
       "      <th>55-64</th>\n",
       "      <th>kids</th>\n",
       "      <td>1</td>\n",
       "    </tr>\n",
       "    <tr>\n",
       "      <th>Greater than 65</th>\n",
       "      <th>kids</th>\n",
       "      <td>5</td>\n",
       "    </tr>\n",
       "  </tbody>\n",
       "</table>\n",
       "</div>"
      ],
      "text/plain": [
       "                            number_basket\n",
       "age_band        demo_child               \n",
       "19-24           kids                  226\n",
       "                no kids               533\n",
       "25-34           kids                  117\n",
       "                no kids               163\n",
       "35-44           kids                   85\n",
       "                no kids                12\n",
       "45-54           kids                  387\n",
       "55-64           kids                    1\n",
       "Greater than 65 kids                    5"
      ]
     },
     "execution_count": 15,
     "metadata": {},
     "output_type": "execute_result"
    }
   ],
   "source": [
    "noBeefbasket.groupby(['age_band','demo_child']).agg(number_basket=('basket_id', pd.Series.nunique))"
   ]
  },
  {
   "cell_type": "code",
   "execution_count": 16,
   "id": "aquatic-wesley",
   "metadata": {
    "scrolled": true
   },
   "outputs": [
    {
     "data": {
      "text/plain": [
       "Unnamed: 0                   int64\n",
       "customer_id                  int64\n",
       "product_id                   int64\n",
       "basket_id                    int64\n",
       "loyalty                     object\n",
       "household_type              object\n",
       "age_band                    object\n",
       "department                  object\n",
       "brand                       object\n",
       "commodity                   object\n",
       "store                        int64\n",
       "transaction_date    datetime64[ns]\n",
       "price                      float64\n",
       "days_since_first             int64\n",
       "t_date                      object\n",
       "month                        int64\n",
       "quarter                     object\n",
       "demo_child                  object\n",
       "year                         int64\n",
       "period                      object\n",
       "dtype: object"
      ]
     },
     "execution_count": 16,
     "metadata": {},
     "output_type": "execute_result"
    }
   ],
   "source": [
    "#add a year  and year + quarter column\n",
    "df.transaction_date = pd.to_datetime(df.transaction_date) #Have to change to datetime format\n",
    "df[\"year\"] = df.transaction_date.dt.year\n",
    "df[\"period\"] = df[\"year\"].astype(str) + \", \" + df[\"quarter\"]\n",
    "df.dtypes"
   ]
  },
  {
   "cell_type": "code",
   "execution_count": 18,
   "id": "consistent-mercury",
   "metadata": {
    "scrolled": true
   },
   "outputs": [
    {
     "name": "stdout",
     "output_type": "stream",
     "text": [
      "['Deli meats' 'Lunch meat' 'Seafood-frozen' 'Beef' 'Salad' 'Cheese'\n",
      " 'Frozen meat' 'Pork']\n"
     ]
    }
   ],
   "source": [
    "#create a new df and check the value captured\n",
    "top8_comm = df[df.commodity.str.lower().str.contains('beef|cheese|frozen meat|deli meats|seafood-frozen|salad|lunch meat|pork') & ~df.commodity.str.lower().str.contains('dressing|vegetables')].copy()\n",
    "print(top8_comm['commodity'].unique())"
   ]
  },
  {
   "cell_type": "code",
   "execution_count": 19,
   "id": "social-cardiff",
   "metadata": {
    "scrolled": true
   },
   "outputs": [
    {
     "ename": "ValueError",
     "evalue": "could not convert string to Timestamp",
     "output_type": "error",
     "traceback": [
      "\u001b[1;31m---------------------------------------------------------------------------\u001b[0m",
      "\u001b[1;31mParserError\u001b[0m                               Traceback (most recent call last)",
      "\u001b[1;32mpandas\\_libs\\tslibs\\conversion.pyx\u001b[0m in \u001b[0;36mpandas._libs.tslibs.conversion._convert_str_to_tsobject\u001b[1;34m()\u001b[0m\n",
      "\u001b[1;32mpandas\\_libs\\tslibs\\parsing.pyx\u001b[0m in \u001b[0;36mpandas._libs.tslibs.parsing.parse_datetime_string\u001b[1;34m()\u001b[0m\n",
      "\u001b[1;32mc:\\python38\\lib\\site-packages\\dateutil\\parser\\_parser.py\u001b[0m in \u001b[0;36mparse\u001b[1;34m(timestr, parserinfo, **kwargs)\u001b[0m\n\u001b[0;32m   1373\u001b[0m     \u001b[1;32melse\u001b[0m\u001b[1;33m:\u001b[0m\u001b[1;33m\u001b[0m\u001b[1;33m\u001b[0m\u001b[0m\n\u001b[1;32m-> 1374\u001b[1;33m         \u001b[1;32mreturn\u001b[0m \u001b[0mDEFAULTPARSER\u001b[0m\u001b[1;33m.\u001b[0m\u001b[0mparse\u001b[0m\u001b[1;33m(\u001b[0m\u001b[0mtimestr\u001b[0m\u001b[1;33m,\u001b[0m \u001b[1;33m**\u001b[0m\u001b[0mkwargs\u001b[0m\u001b[1;33m)\u001b[0m\u001b[1;33m\u001b[0m\u001b[1;33m\u001b[0m\u001b[0m\n\u001b[0m\u001b[0;32m   1375\u001b[0m \u001b[1;33m\u001b[0m\u001b[0m\n",
      "\u001b[1;32mc:\\python38\\lib\\site-packages\\dateutil\\parser\\_parser.py\u001b[0m in \u001b[0;36mparse\u001b[1;34m(self, timestr, default, ignoretz, tzinfos, **kwargs)\u001b[0m\n\u001b[0;32m    648\u001b[0m         \u001b[1;32mif\u001b[0m \u001b[0mres\u001b[0m \u001b[1;32mis\u001b[0m \u001b[1;32mNone\u001b[0m\u001b[1;33m:\u001b[0m\u001b[1;33m\u001b[0m\u001b[1;33m\u001b[0m\u001b[0m\n\u001b[1;32m--> 649\u001b[1;33m             \u001b[1;32mraise\u001b[0m \u001b[0mParserError\u001b[0m\u001b[1;33m(\u001b[0m\u001b[1;34m\"Unknown string format: %s\"\u001b[0m\u001b[1;33m,\u001b[0m \u001b[0mtimestr\u001b[0m\u001b[1;33m)\u001b[0m\u001b[1;33m\u001b[0m\u001b[1;33m\u001b[0m\u001b[0m\n\u001b[0m\u001b[0;32m    650\u001b[0m \u001b[1;33m\u001b[0m\u001b[0m\n",
      "\u001b[1;31mParserError\u001b[0m: Unknown string format: 2017, Q1",
      "\nDuring handling of the above exception, another exception occurred:\n",
      "\u001b[1;31mValueError\u001b[0m                                Traceback (most recent call last)",
      "\u001b[1;32m<ipython-input-19-25d8466d70ce>\u001b[0m in \u001b[0;36m<module>\u001b[1;34m\u001b[0m\n\u001b[0;32m      6\u001b[0m \u001b[0mplt\u001b[0m\u001b[1;33m.\u001b[0m\u001b[0mxlabel\u001b[0m\u001b[1;33m(\u001b[0m\u001b[1;34m'Year, Quarter'\u001b[0m\u001b[1;33m)\u001b[0m\u001b[1;33m\u001b[0m\u001b[1;33m\u001b[0m\u001b[0m\n\u001b[0;32m      7\u001b[0m \u001b[0mplt\u001b[0m\u001b[1;33m.\u001b[0m\u001b[0mylabel\u001b[0m\u001b[1;33m(\u001b[0m\u001b[1;34m'Revenue'\u001b[0m\u001b[1;33m)\u001b[0m\u001b[1;33m\u001b[0m\u001b[1;33m\u001b[0m\u001b[0m\n\u001b[1;32m----> 8\u001b[1;33m \u001b[0mx_labels\u001b[0m \u001b[1;33m=\u001b[0m \u001b[0mpd\u001b[0m\u001b[1;33m.\u001b[0m\u001b[0mdate_range\u001b[0m\u001b[1;33m(\u001b[0m\u001b[0mtmp_top8_comm\u001b[0m\u001b[1;33m.\u001b[0m\u001b[0mperiod\u001b[0m\u001b[1;33m.\u001b[0m\u001b[0mmin\u001b[0m\u001b[1;33m(\u001b[0m\u001b[1;33m)\u001b[0m\u001b[1;33m,\u001b[0m\u001b[0mtmp_top8_comm\u001b[0m\u001b[1;33m.\u001b[0m\u001b[0mperiod\u001b[0m\u001b[1;33m.\u001b[0m\u001b[0mmax\u001b[0m\u001b[1;33m(\u001b[0m\u001b[1;33m)\u001b[0m\u001b[1;33m,\u001b[0m\u001b[1;36m12\u001b[0m\u001b[1;33m)\u001b[0m\u001b[1;33m\u001b[0m\u001b[1;33m\u001b[0m\u001b[0m\n\u001b[0m\u001b[0;32m      9\u001b[0m \u001b[1;31m# We use the method date_range to customize the number of dates in our x-axis. We only print 12 date labels\u001b[0m\u001b[1;33m\u001b[0m\u001b[1;33m\u001b[0m\u001b[1;33m\u001b[0m\u001b[0m\n\u001b[0;32m     10\u001b[0m \u001b[0mplt\u001b[0m\u001b[1;33m.\u001b[0m\u001b[0mxticks\u001b[0m\u001b[1;33m(\u001b[0m\u001b[0mx_labels\u001b[0m\u001b[1;33m)\u001b[0m\u001b[1;33m;\u001b[0m\u001b[1;33m\u001b[0m\u001b[1;33m\u001b[0m\u001b[0m\n",
      "\u001b[1;32mc:\\python38\\lib\\site-packages\\pandas\\core\\indexes\\datetimes.py\u001b[0m in \u001b[0;36mdate_range\u001b[1;34m(start, end, periods, freq, tz, normalize, name, closed, **kwargs)\u001b[0m\n\u001b[0;32m   1067\u001b[0m         \u001b[0mfreq\u001b[0m \u001b[1;33m=\u001b[0m \u001b[1;34m\"D\"\u001b[0m\u001b[1;33m\u001b[0m\u001b[1;33m\u001b[0m\u001b[0m\n\u001b[0;32m   1068\u001b[0m \u001b[1;33m\u001b[0m\u001b[0m\n\u001b[1;32m-> 1069\u001b[1;33m     dtarr = DatetimeArray._generate_range(\n\u001b[0m\u001b[0;32m   1070\u001b[0m         \u001b[0mstart\u001b[0m\u001b[1;33m=\u001b[0m\u001b[0mstart\u001b[0m\u001b[1;33m,\u001b[0m\u001b[1;33m\u001b[0m\u001b[1;33m\u001b[0m\u001b[0m\n\u001b[0;32m   1071\u001b[0m         \u001b[0mend\u001b[0m\u001b[1;33m=\u001b[0m\u001b[0mend\u001b[0m\u001b[1;33m,\u001b[0m\u001b[1;33m\u001b[0m\u001b[1;33m\u001b[0m\u001b[0m\n",
      "\u001b[1;32mc:\\python38\\lib\\site-packages\\pandas\\core\\arrays\\datetimes.py\u001b[0m in \u001b[0;36m_generate_range\u001b[1;34m(cls, start, end, periods, freq, tz, normalize, ambiguous, nonexistent, closed)\u001b[0m\n\u001b[0;32m    378\u001b[0m \u001b[1;33m\u001b[0m\u001b[0m\n\u001b[0;32m    379\u001b[0m         \u001b[1;32mif\u001b[0m \u001b[0mstart\u001b[0m \u001b[1;32mis\u001b[0m \u001b[1;32mnot\u001b[0m \u001b[1;32mNone\u001b[0m\u001b[1;33m:\u001b[0m\u001b[1;33m\u001b[0m\u001b[1;33m\u001b[0m\u001b[0m\n\u001b[1;32m--> 380\u001b[1;33m             \u001b[0mstart\u001b[0m \u001b[1;33m=\u001b[0m \u001b[0mTimestamp\u001b[0m\u001b[1;33m(\u001b[0m\u001b[0mstart\u001b[0m\u001b[1;33m)\u001b[0m\u001b[1;33m\u001b[0m\u001b[1;33m\u001b[0m\u001b[0m\n\u001b[0m\u001b[0;32m    381\u001b[0m \u001b[1;33m\u001b[0m\u001b[0m\n\u001b[0;32m    382\u001b[0m         \u001b[1;32mif\u001b[0m \u001b[0mend\u001b[0m \u001b[1;32mis\u001b[0m \u001b[1;32mnot\u001b[0m \u001b[1;32mNone\u001b[0m\u001b[1;33m:\u001b[0m\u001b[1;33m\u001b[0m\u001b[1;33m\u001b[0m\u001b[0m\n",
      "\u001b[1;32mpandas\\_libs\\tslibs\\timestamps.pyx\u001b[0m in \u001b[0;36mpandas._libs.tslibs.timestamps.Timestamp.__new__\u001b[1;34m()\u001b[0m\n",
      "\u001b[1;32mpandas\\_libs\\tslibs\\conversion.pyx\u001b[0m in \u001b[0;36mpandas._libs.tslibs.conversion.convert_to_tsobject\u001b[1;34m()\u001b[0m\n",
      "\u001b[1;32mpandas\\_libs\\tslibs\\conversion.pyx\u001b[0m in \u001b[0;36mpandas._libs.tslibs.conversion._convert_str_to_tsobject\u001b[1;34m()\u001b[0m\n",
      "\u001b[1;31mValueError\u001b[0m: could not convert string to Timestamp"
     ]
    },
    {
     "data": {
      "image/png": "[encoded data removed]",
      "text/plain": [
       "<Figure size 1152x720 with 1 Axes>"
      ]
     },
     "metadata": {
      "needs_background": "light"
     },
     "output_type": "display_data"
    }
   ],
   "source": [
    "#graphing\n",
    "tmp_top8_comm = top8_comm.groupby(['commodity', 'period']).agg(revenue=('price', sum)).reset_index()\n",
    "\n",
    "plt.figure(figsize=(16,10)) #enlarge the chart\n",
    "sns.lineplot(data=tmp_top8_comm, x='period', y='revenue', hue='commodity');\n",
    "plt.xlabel('Year, Quarter')\n",
    "plt.ylabel('Revenue')\n",
    "x_labels = pd.date_range(tmp_top8_comm.period.min(),tmp_top8_comm.period.max(),12)\n",
    "# We use the method date_range to customize the number of dates in our x-axis. We only print 12 date labels\n",
    "plt.xticks(x_labels);"
   ]
  },
  {
   "cell_type": "code",
   "execution_count": 20,
   "id": "inside-evaluation",
   "metadata": {
    "scrolled": true
   },
   "outputs": [
    {
     "data": {
      "text/html": [
       "<div>\n",
       "<style scoped>\n",
       "    .dataframe tbody tr th:only-of-type {\n",
       "        vertical-align: middle;\n",
       "    }\n",
       "\n",
       "    .dataframe tbody tr th {\n",
       "        vertical-align: top;\n",
       "    }\n",
       "\n",
       "    .dataframe thead th {\n",
       "        text-align: right;\n",
       "    }\n",
       "</style>\n",
       "<table border=\"1\" class=\"dataframe\">\n",
       "  <thead>\n",
       "    <tr style=\"text-align: right;\">\n",
       "      <th></th>\n",
       "      <th></th>\n",
       "      <th>customer_id</th>\n",
       "      <th>basket_id</th>\n",
       "      <th>product_id</th>\n",
       "      <th>price</th>\n",
       "    </tr>\n",
       "    <tr>\n",
       "      <th>age_band</th>\n",
       "      <th>demo_child</th>\n",
       "      <th></th>\n",
       "      <th></th>\n",
       "      <th></th>\n",
       "      <th></th>\n",
       "    </tr>\n",
       "  </thead>\n",
       "  <tbody>\n",
       "    <tr>\n",
       "      <th rowspan=\"2\" valign=\"top\">19-24</th>\n",
       "      <th>kids</th>\n",
       "      <td>270</td>\n",
       "      <td>283</td>\n",
       "      <td>3289</td>\n",
       "      <td>21497.62</td>\n",
       "    </tr>\n",
       "    <tr>\n",
       "      <th>no kids</th>\n",
       "      <td>680</td>\n",
       "      <td>713</td>\n",
       "      <td>5676</td>\n",
       "      <td>55745.17</td>\n",
       "    </tr>\n",
       "    <tr>\n",
       "      <th rowspan=\"2\" valign=\"top\">25-34</th>\n",
       "      <th>kids</th>\n",
       "      <td>130</td>\n",
       "      <td>134</td>\n",
       "      <td>1949</td>\n",
       "      <td>10050.39</td>\n",
       "    </tr>\n",
       "    <tr>\n",
       "      <th>no kids</th>\n",
       "      <td>165</td>\n",
       "      <td>171</td>\n",
       "      <td>2301</td>\n",
       "      <td>13075.77</td>\n",
       "    </tr>\n",
       "    <tr>\n",
       "      <th rowspan=\"2\" valign=\"top\">35-44</th>\n",
       "      <th>kids</th>\n",
       "      <td>110</td>\n",
       "      <td>111</td>\n",
       "      <td>1660</td>\n",
       "      <td>8467.02</td>\n",
       "    </tr>\n",
       "    <tr>\n",
       "      <th>no kids</th>\n",
       "      <td>9</td>\n",
       "      <td>9</td>\n",
       "      <td>152</td>\n",
       "      <td>597.76</td>\n",
       "    </tr>\n",
       "    <tr>\n",
       "      <th>45-54</th>\n",
       "      <th>kids</th>\n",
       "      <td>504</td>\n",
       "      <td>521</td>\n",
       "      <td>4672</td>\n",
       "      <td>38415.33</td>\n",
       "    </tr>\n",
       "    <tr>\n",
       "      <th>55-64</th>\n",
       "      <th>kids</th>\n",
       "      <td>5</td>\n",
       "      <td>5</td>\n",
       "      <td>114</td>\n",
       "      <td>387.04</td>\n",
       "    </tr>\n",
       "    <tr>\n",
       "      <th>Greater than 65</th>\n",
       "      <th>kids</th>\n",
       "      <td>3</td>\n",
       "      <td>3</td>\n",
       "      <td>50</td>\n",
       "      <td>168.47</td>\n",
       "    </tr>\n",
       "  </tbody>\n",
       "</table>\n",
       "</div>"
      ],
      "text/plain": [
       "                            customer_id  basket_id  product_id     price\n",
       "age_band        demo_child                                              \n",
       "19-24           kids                270        283        3289  21497.62\n",
       "                no kids             680        713        5676  55745.17\n",
       "25-34           kids                130        134        1949  10050.39\n",
       "                no kids             165        171        2301  13075.77\n",
       "35-44           kids                110        111        1660   8467.02\n",
       "                no kids               9          9         152    597.76\n",
       "45-54           kids                504        521        4672  38415.33\n",
       "55-64           kids                  5          5         114    387.04\n",
       "Greater than 65 kids                  3          3          50    168.47"
      ]
     },
     "execution_count": 20,
     "metadata": {},
     "output_type": "execute_result"
    }
   ],
   "source": [
    "# Beef eater unique value \n",
    "yesBeefbasket.groupby(['age_band','demo_child']).agg({'customer_id': pd.Series.nunique,'basket_id': pd.Series.nunique,'product_id': pd.Series.nunique, 'price':'sum'})"
   ]
  },
  {
   "cell_type": "code",
   "execution_count": 21,
   "id": "stainless-freeware",
   "metadata": {
    "scrolled": true
   },
   "outputs": [
    {
     "data": {
      "text/html": [
       "<div>\n",
       "<style scoped>\n",
       "    .dataframe tbody tr th:only-of-type {\n",
       "        vertical-align: middle;\n",
       "    }\n",
       "\n",
       "    .dataframe tbody tr th {\n",
       "        vertical-align: top;\n",
       "    }\n",
       "\n",
       "    .dataframe thead th {\n",
       "        text-align: right;\n",
       "    }\n",
       "</style>\n",
       "<table border=\"1\" class=\"dataframe\">\n",
       "  <thead>\n",
       "    <tr style=\"text-align: right;\">\n",
       "      <th></th>\n",
       "      <th></th>\n",
       "      <th>customer_id</th>\n",
       "      <th>basket_id</th>\n",
       "      <th>product_id</th>\n",
       "      <th>price</th>\n",
       "    </tr>\n",
       "    <tr>\n",
       "      <th>age_band</th>\n",
       "      <th>demo_child</th>\n",
       "      <th></th>\n",
       "      <th></th>\n",
       "      <th></th>\n",
       "      <th></th>\n",
       "    </tr>\n",
       "  </thead>\n",
       "  <tbody>\n",
       "    <tr>\n",
       "      <th rowspan=\"2\" valign=\"top\">19-24</th>\n",
       "      <th>kids</th>\n",
       "      <td>221</td>\n",
       "      <td>226</td>\n",
       "      <td>2748</td>\n",
       "      <td>15730.79</td>\n",
       "    </tr>\n",
       "    <tr>\n",
       "      <th>no kids</th>\n",
       "      <td>510</td>\n",
       "      <td>533</td>\n",
       "      <td>4751</td>\n",
       "      <td>36535.88</td>\n",
       "    </tr>\n",
       "    <tr>\n",
       "      <th rowspan=\"2\" valign=\"top\">25-34</th>\n",
       "      <th>kids</th>\n",
       "      <td>112</td>\n",
       "      <td>117</td>\n",
       "      <td>1629</td>\n",
       "      <td>7597.99</td>\n",
       "    </tr>\n",
       "    <tr>\n",
       "      <th>no kids</th>\n",
       "      <td>160</td>\n",
       "      <td>163</td>\n",
       "      <td>2145</td>\n",
       "      <td>10570.43</td>\n",
       "    </tr>\n",
       "    <tr>\n",
       "      <th rowspan=\"2\" valign=\"top\">35-44</th>\n",
       "      <th>kids</th>\n",
       "      <td>85</td>\n",
       "      <td>85</td>\n",
       "      <td>1237</td>\n",
       "      <td>5539.34</td>\n",
       "    </tr>\n",
       "    <tr>\n",
       "      <th>no kids</th>\n",
       "      <td>12</td>\n",
       "      <td>12</td>\n",
       "      <td>187</td>\n",
       "      <td>703.06</td>\n",
       "    </tr>\n",
       "    <tr>\n",
       "      <th>45-54</th>\n",
       "      <th>kids</th>\n",
       "      <td>374</td>\n",
       "      <td>387</td>\n",
       "      <td>3907</td>\n",
       "      <td>25699.04</td>\n",
       "    </tr>\n",
       "    <tr>\n",
       "      <th>55-64</th>\n",
       "      <th>kids</th>\n",
       "      <td>1</td>\n",
       "      <td>1</td>\n",
       "      <td>19</td>\n",
       "      <td>43.62</td>\n",
       "    </tr>\n",
       "    <tr>\n",
       "      <th>Greater than 65</th>\n",
       "      <th>kids</th>\n",
       "      <td>5</td>\n",
       "      <td>5</td>\n",
       "      <td>92</td>\n",
       "      <td>257.27</td>\n",
       "    </tr>\n",
       "  </tbody>\n",
       "</table>\n",
       "</div>"
      ],
      "text/plain": [
       "                            customer_id  basket_id  product_id     price\n",
       "age_band        demo_child                                              \n",
       "19-24           kids                221        226        2748  15730.79\n",
       "                no kids             510        533        4751  36535.88\n",
       "25-34           kids                112        117        1629   7597.99\n",
       "                no kids             160        163        2145  10570.43\n",
       "35-44           kids                 85         85        1237   5539.34\n",
       "                no kids              12         12         187    703.06\n",
       "45-54           kids                374        387        3907  25699.04\n",
       "55-64           kids                  1          1          19     43.62\n",
       "Greater than 65 kids                  5          5          92    257.27"
      ]
     },
     "execution_count": 21,
     "metadata": {},
     "output_type": "execute_result"
    }
   ],
   "source": [
    "# Non-Beef eater unique value \n",
    "noBeefbasket.groupby(['age_band','demo_child']).agg({'customer_id': pd.Series.nunique,'basket_id': pd.Series.nunique,'product_id': pd.Series.nunique, 'price':'sum'})"
   ]
  },
  {
   "cell_type": "code",
   "execution_count": null,
   "id": "extended-castle",
   "metadata": {
    "scrolled": true
   },
   "outputs": [],
   "source": []
  }
 ],
 "metadata": {
  "kernelspec": {
   "display_name": "Python 3",
   "language": "python",
   "name": "python3"
  },
  "language_info": {
   "codemirror_mode": {
    "name": "ipython",
    "version": 3
   },
   "file_extension": ".py",
   "mimetype": "text/x-python",
   "name": "python",
   "nbconvert_exporter": "python",
   "pygments_lexer": "ipython3",
   "version": "3.8.6"
  }
 },
 "nbformat": 4,
 "nbformat_minor": 5
}
